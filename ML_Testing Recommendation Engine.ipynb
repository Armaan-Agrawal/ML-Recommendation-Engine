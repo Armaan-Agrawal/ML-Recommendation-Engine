{
 "cells": [
  {
   "cell_type": "code",
   "execution_count": 5,
   "metadata": {},
   "outputs": [],
   "source": [
    "import pandas as pd\n",
    "import numpy as np\n",
    "import seaborn as sns\n",
    "import matplotlib.pyplot as plt"
   ]
  },
  {
   "cell_type": "code",
   "execution_count": 6,
   "metadata": {},
   "outputs": [],
   "source": [
    "content_df = pd.read_csv('content.csv')"
   ]
  },
  {
   "cell_type": "code",
   "execution_count": 7,
   "metadata": {},
   "outputs": [
    {
     "data": {
      "text/html": [
       "<div>\n",
       "<style scoped>\n",
       "    .dataframe tbody tr th:only-of-type {\n",
       "        vertical-align: middle;\n",
       "    }\n",
       "\n",
       "    .dataframe tbody tr th {\n",
       "        vertical-align: top;\n",
       "    }\n",
       "\n",
       "    .dataframe thead th {\n",
       "        text-align: right;\n",
       "    }\n",
       "</style>\n",
       "<table border=\"1\" class=\"dataframe\">\n",
       "  <thead>\n",
       "    <tr style=\"text-align: right;\">\n",
       "      <th></th>\n",
       "      <th>ITEM_ID</th>\n",
       "      <th>PRIMARY_LEARNING_OBJECTIVE_ID</th>\n",
       "      <th>CONTENT_TYPE</th>\n",
       "      <th>DISPLAY_NAME</th>\n",
       "      <th>PUBLISHER_ID</th>\n",
       "      <th>PRICING_TYPE</th>\n",
       "      <th>GENRE</th>\n",
       "      <th>GAME_GENRE</th>\n",
       "      <th>NUMBER_OF_PAGES</th>\n",
       "      <th>ESTIMATED_CONTENT_DURATION</th>\n",
       "    </tr>\n",
       "  </thead>\n",
       "  <tbody>\n",
       "    <tr>\n",
       "      <th>625</th>\n",
       "      <td>781</td>\n",
       "      <td>31</td>\n",
       "      <td>33</td>\n",
       "      <td>Fun Facts with joory - Countries 4</td>\n",
       "      <td>4</td>\n",
       "      <td>1</td>\n",
       "      <td>24</td>\n",
       "      <td>NaN</td>\n",
       "      <td>0</td>\n",
       "      <td>80.0</td>\n",
       "    </tr>\n",
       "    <tr>\n",
       "      <th>189</th>\n",
       "      <td>332</td>\n",
       "      <td>13</td>\n",
       "      <td>31</td>\n",
       "      <td>Hot Air Balloon Adventures - Around the World</td>\n",
       "      <td>31</td>\n",
       "      <td>1</td>\n",
       "      <td>2</td>\n",
       "      <td>NaN</td>\n",
       "      <td>14</td>\n",
       "      <td>90.0</td>\n",
       "    </tr>\n",
       "    <tr>\n",
       "      <th>323</th>\n",
       "      <td>475</td>\n",
       "      <td>29</td>\n",
       "      <td>33</td>\n",
       "      <td>Story : \"All Better\" with Fatima</td>\n",
       "      <td>4</td>\n",
       "      <td>1</td>\n",
       "      <td>13</td>\n",
       "      <td>NaN</td>\n",
       "      <td>0</td>\n",
       "      <td>100.0</td>\n",
       "    </tr>\n",
       "    <tr>\n",
       "      <th>597</th>\n",
       "      <td>753</td>\n",
       "      <td>31</td>\n",
       "      <td>33</td>\n",
       "      <td>English Basics 12</td>\n",
       "      <td>4</td>\n",
       "      <td>1</td>\n",
       "      <td>22</td>\n",
       "      <td>NaN</td>\n",
       "      <td>0</td>\n",
       "      <td>229.0</td>\n",
       "    </tr>\n",
       "    <tr>\n",
       "      <th>664</th>\n",
       "      <td>820</td>\n",
       "      <td>31</td>\n",
       "      <td>33</td>\n",
       "      <td>English Basics 17</td>\n",
       "      <td>4</td>\n",
       "      <td>1</td>\n",
       "      <td>22</td>\n",
       "      <td>NaN</td>\n",
       "      <td>0</td>\n",
       "      <td>303.0</td>\n",
       "    </tr>\n",
       "  </tbody>\n",
       "</table>\n",
       "</div>"
      ],
      "text/plain": [
       "     ITEM_ID  PRIMARY_LEARNING_OBJECTIVE_ID  CONTENT_TYPE  \\\n",
       "625      781                             31            33   \n",
       "189      332                             13            31   \n",
       "323      475                             29            33   \n",
       "597      753                             31            33   \n",
       "664      820                             31            33   \n",
       "\n",
       "                                      DISPLAY_NAME  PUBLISHER_ID  \\\n",
       "625             Fun Facts with joory - Countries 4             4   \n",
       "189  Hot Air Balloon Adventures - Around the World            31   \n",
       "323               Story : \"All Better\" with Fatima             4   \n",
       "597                              English Basics 12             4   \n",
       "664                              English Basics 17             4   \n",
       "\n",
       "     PRICING_TYPE  GENRE GAME_GENRE  NUMBER_OF_PAGES  \\\n",
       "625             1     24        NaN                0   \n",
       "189             1      2        NaN               14   \n",
       "323             1     13        NaN                0   \n",
       "597             1     22        NaN                0   \n",
       "664             1     22        NaN                0   \n",
       "\n",
       "     ESTIMATED_CONTENT_DURATION  \n",
       "625                        80.0  \n",
       "189                        90.0  \n",
       "323                       100.0  \n",
       "597                       229.0  \n",
       "664                       303.0  "
      ]
     },
     "execution_count": 7,
     "metadata": {},
     "output_type": "execute_result"
    }
   ],
   "source": [
    "content_df.sample(5)"
   ]
  },
  {
   "cell_type": "code",
   "execution_count": 8,
   "metadata": {},
   "outputs": [
    {
     "data": {
      "text/html": [
       "<div>\n",
       "<style scoped>\n",
       "    .dataframe tbody tr th:only-of-type {\n",
       "        vertical-align: middle;\n",
       "    }\n",
       "\n",
       "    .dataframe tbody tr th {\n",
       "        vertical-align: top;\n",
       "    }\n",
       "\n",
       "    .dataframe thead th {\n",
       "        text-align: right;\n",
       "    }\n",
       "</style>\n",
       "<table border=\"1\" class=\"dataframe\">\n",
       "  <thead>\n",
       "    <tr style=\"text-align: right;\">\n",
       "      <th></th>\n",
       "      <th>ITEM_ID</th>\n",
       "      <th>PRIMARY_LEARNING_OBJECTIVE_ID</th>\n",
       "      <th>CONTENT_TYPE</th>\n",
       "      <th>DISPLAY_NAME</th>\n",
       "      <th>PUBLISHER_ID</th>\n",
       "      <th>PRICING_TYPE</th>\n",
       "      <th>GENRE</th>\n",
       "      <th>GAME_GENRE</th>\n",
       "      <th>NUMBER_OF_PAGES</th>\n",
       "      <th>ESTIMATED_CONTENT_DURATION</th>\n",
       "    </tr>\n",
       "  </thead>\n",
       "  <tbody>\n",
       "    <tr>\n",
       "      <th>0</th>\n",
       "      <td>9</td>\n",
       "      <td>10</td>\n",
       "      <td>33</td>\n",
       "      <td>Clay Madness: Butterfly</td>\n",
       "      <td>4</td>\n",
       "      <td>1</td>\n",
       "      <td>13</td>\n",
       "      <td>game_genre</td>\n",
       "      <td>0</td>\n",
       "      <td>90.0</td>\n",
       "    </tr>\n",
       "    <tr>\n",
       "      <th>1</th>\n",
       "      <td>10</td>\n",
       "      <td>10</td>\n",
       "      <td>33</td>\n",
       "      <td>Clay Madness: Hot Air Balloon</td>\n",
       "      <td>4</td>\n",
       "      <td>1</td>\n",
       "      <td>13</td>\n",
       "      <td>game_genre</td>\n",
       "      <td>0</td>\n",
       "      <td>60.0</td>\n",
       "    </tr>\n",
       "    <tr>\n",
       "      <th>2</th>\n",
       "      <td>11</td>\n",
       "      <td>10</td>\n",
       "      <td>33</td>\n",
       "      <td>Fanakeeb: Cup Man</td>\n",
       "      <td>4</td>\n",
       "      <td>1</td>\n",
       "      <td>13</td>\n",
       "      <td>game_genre</td>\n",
       "      <td>0</td>\n",
       "      <td>60.0</td>\n",
       "    </tr>\n",
       "    <tr>\n",
       "      <th>3</th>\n",
       "      <td>12</td>\n",
       "      <td>20</td>\n",
       "      <td>33</td>\n",
       "      <td>The Grumpy Prince</td>\n",
       "      <td>4</td>\n",
       "      <td>1</td>\n",
       "      <td>4</td>\n",
       "      <td>game_genre</td>\n",
       "      <td>0</td>\n",
       "      <td>70.0</td>\n",
       "    </tr>\n",
       "    <tr>\n",
       "      <th>4</th>\n",
       "      <td>62</td>\n",
       "      <td>13</td>\n",
       "      <td>33</td>\n",
       "      <td>Eid</td>\n",
       "      <td>35</td>\n",
       "      <td>1</td>\n",
       "      <td>12</td>\n",
       "      <td>game_genre</td>\n",
       "      <td>0</td>\n",
       "      <td>123.2</td>\n",
       "    </tr>\n",
       "  </tbody>\n",
       "</table>\n",
       "</div>"
      ],
      "text/plain": [
       "   ITEM_ID  PRIMARY_LEARNING_OBJECTIVE_ID  CONTENT_TYPE  \\\n",
       "0        9                             10            33   \n",
       "1       10                             10            33   \n",
       "2       11                             10            33   \n",
       "3       12                             20            33   \n",
       "4       62                             13            33   \n",
       "\n",
       "                    DISPLAY_NAME  PUBLISHER_ID  PRICING_TYPE  GENRE  \\\n",
       "0        Clay Madness: Butterfly             4             1     13   \n",
       "1  Clay Madness: Hot Air Balloon             4             1     13   \n",
       "2              Fanakeeb: Cup Man             4             1     13   \n",
       "3              The Grumpy Prince             4             1      4   \n",
       "4                            Eid            35             1     12   \n",
       "\n",
       "   GAME_GENRE  NUMBER_OF_PAGES  ESTIMATED_CONTENT_DURATION  \n",
       "0  game_genre                0                        90.0  \n",
       "1  game_genre                0                        60.0  \n",
       "2  game_genre                0                        60.0  \n",
       "3  game_genre                0                        70.0  \n",
       "4  game_genre                0                       123.2  "
      ]
     },
     "execution_count": 8,
     "metadata": {},
     "output_type": "execute_result"
    }
   ],
   "source": [
    "content_df.head(5)"
   ]
  },
  {
   "cell_type": "code",
   "execution_count": 9,
   "metadata": {},
   "outputs": [],
   "source": [
    "content_history_df = pd.read_csv('content_history.csv')"
   ]
  },
  {
   "cell_type": "code",
   "execution_count": 10,
   "metadata": {},
   "outputs": [
    {
     "data": {
      "text/html": [
       "<div>\n",
       "<style scoped>\n",
       "    .dataframe tbody tr th:only-of-type {\n",
       "        vertical-align: middle;\n",
       "    }\n",
       "\n",
       "    .dataframe tbody tr th {\n",
       "        vertical-align: top;\n",
       "    }\n",
       "\n",
       "    .dataframe thead th {\n",
       "        text-align: right;\n",
       "    }\n",
       "</style>\n",
       "<table border=\"1\" class=\"dataframe\">\n",
       "  <thead>\n",
       "    <tr style=\"text-align: right;\">\n",
       "      <th></th>\n",
       "      <th>USER_ID</th>\n",
       "      <th>KID_ID</th>\n",
       "      <th>CATEGORY_ID</th>\n",
       "      <th>SECTION_ID</th>\n",
       "      <th>ITEM_ID</th>\n",
       "      <th>USER_TYPE</th>\n",
       "      <th>TIME_SPEND</th>\n",
       "      <th>COUNTRY</th>\n",
       "      <th>TIMESTAMP</th>\n",
       "    </tr>\n",
       "  </thead>\n",
       "  <tbody>\n",
       "    <tr>\n",
       "      <th>4431210</th>\n",
       "      <td>4540335</td>\n",
       "      <td>0</td>\n",
       "      <td>6</td>\n",
       "      <td>48</td>\n",
       "      <td>660</td>\n",
       "      <td>2</td>\n",
       "      <td>0</td>\n",
       "      <td>US</td>\n",
       "      <td>1606184202</td>\n",
       "    </tr>\n",
       "    <tr>\n",
       "      <th>4934462</th>\n",
       "      <td>4262510</td>\n",
       "      <td>0</td>\n",
       "      <td>0</td>\n",
       "      <td>0</td>\n",
       "      <td>317</td>\n",
       "      <td>1</td>\n",
       "      <td>1</td>\n",
       "      <td>OM</td>\n",
       "      <td>1606640804</td>\n",
       "    </tr>\n",
       "    <tr>\n",
       "      <th>7977785</th>\n",
       "      <td>5423026</td>\n",
       "      <td>814986</td>\n",
       "      <td>2</td>\n",
       "      <td>50</td>\n",
       "      <td>405</td>\n",
       "      <td>2</td>\n",
       "      <td>10</td>\n",
       "      <td>SA</td>\n",
       "      <td>1609858990</td>\n",
       "    </tr>\n",
       "    <tr>\n",
       "      <th>5359418</th>\n",
       "      <td>4555117</td>\n",
       "      <td>0</td>\n",
       "      <td>0</td>\n",
       "      <td>0</td>\n",
       "      <td>126</td>\n",
       "      <td>2</td>\n",
       "      <td>0</td>\n",
       "      <td>SY</td>\n",
       "      <td>1607007329</td>\n",
       "    </tr>\n",
       "    <tr>\n",
       "      <th>2031796</th>\n",
       "      <td>4770068</td>\n",
       "      <td>0</td>\n",
       "      <td>0</td>\n",
       "      <td>0</td>\n",
       "      <td>450</td>\n",
       "      <td>2</td>\n",
       "      <td>1</td>\n",
       "      <td>LY</td>\n",
       "      <td>1603745714</td>\n",
       "    </tr>\n",
       "  </tbody>\n",
       "</table>\n",
       "</div>"
      ],
      "text/plain": [
       "         USER_ID  KID_ID  CATEGORY_ID  SECTION_ID  ITEM_ID  USER_TYPE  \\\n",
       "4431210  4540335       0            6          48      660          2   \n",
       "4934462  4262510       0            0           0      317          1   \n",
       "7977785  5423026  814986            2          50      405          2   \n",
       "5359418  4555117       0            0           0      126          2   \n",
       "2031796  4770068       0            0           0      450          2   \n",
       "\n",
       "         TIME_SPEND COUNTRY   TIMESTAMP  \n",
       "4431210           0      US  1606184202  \n",
       "4934462           1      OM  1606640804  \n",
       "7977785          10      SA  1609858990  \n",
       "5359418           0      SY  1607007329  \n",
       "2031796           1      LY  1603745714  "
      ]
     },
     "execution_count": 10,
     "metadata": {},
     "output_type": "execute_result"
    }
   ],
   "source": [
    "content_history_df.sample(5)"
   ]
  },
  {
   "cell_type": "code",
   "execution_count": 11,
   "metadata": {},
   "outputs": [
    {
     "name": "stdout",
     "output_type": "stream",
     "text": [
      "<class 'pandas.core.frame.DataFrame'>\n",
      "RangeIndex: 807 entries, 0 to 806\n",
      "Data columns (total 10 columns):\n",
      " #   Column                         Non-Null Count  Dtype  \n",
      "---  ------                         --------------  -----  \n",
      " 0   ITEM_ID                        807 non-null    int64  \n",
      " 1   PRIMARY_LEARNING_OBJECTIVE_ID  807 non-null    int64  \n",
      " 2   CONTENT_TYPE                   807 non-null    int64  \n",
      " 3   DISPLAY_NAME                   807 non-null    object \n",
      " 4   PUBLISHER_ID                   807 non-null    int64  \n",
      " 5   PRICING_TYPE                   807 non-null    int64  \n",
      " 6   GENRE                          807 non-null    int64  \n",
      " 7   GAME_GENRE                     224 non-null    object \n",
      " 8   NUMBER_OF_PAGES                807 non-null    int64  \n",
      " 9   ESTIMATED_CONTENT_DURATION     807 non-null    float64\n",
      "dtypes: float64(1), int64(7), object(2)\n",
      "memory usage: 63.2+ KB\n"
     ]
    }
   ],
   "source": [
    "content_df.info()"
   ]
  },
  {
   "cell_type": "code",
   "execution_count": 12,
   "metadata": {},
   "outputs": [
    {
     "data": {
      "text/html": [
       "<div>\n",
       "<style scoped>\n",
       "    .dataframe tbody tr th:only-of-type {\n",
       "        vertical-align: middle;\n",
       "    }\n",
       "\n",
       "    .dataframe tbody tr th {\n",
       "        vertical-align: top;\n",
       "    }\n",
       "\n",
       "    .dataframe thead th {\n",
       "        text-align: right;\n",
       "    }\n",
       "</style>\n",
       "<table border=\"1\" class=\"dataframe\">\n",
       "  <thead>\n",
       "    <tr style=\"text-align: right;\">\n",
       "      <th></th>\n",
       "      <th>ITEM_ID</th>\n",
       "      <th>PRIMARY_LEARNING_OBJECTIVE_ID</th>\n",
       "      <th>CONTENT_TYPE</th>\n",
       "      <th>DISPLAY_NAME</th>\n",
       "      <th>PUBLISHER_ID</th>\n",
       "      <th>PRICING_TYPE</th>\n",
       "      <th>GENRE</th>\n",
       "      <th>GAME_GENRE</th>\n",
       "      <th>NUMBER_OF_PAGES</th>\n",
       "      <th>ESTIMATED_CONTENT_DURATION</th>\n",
       "    </tr>\n",
       "  </thead>\n",
       "  <tbody>\n",
       "    <tr>\n",
       "      <th>59</th>\n",
       "      <td>189</td>\n",
       "      <td>10</td>\n",
       "      <td>33</td>\n",
       "      <td>Fanakeeb: Panda</td>\n",
       "      <td>4</td>\n",
       "      <td>1</td>\n",
       "      <td>13</td>\n",
       "      <td>NaN</td>\n",
       "      <td>0</td>\n",
       "      <td>135.0</td>\n",
       "    </tr>\n",
       "    <tr>\n",
       "      <th>154</th>\n",
       "      <td>296</td>\n",
       "      <td>16</td>\n",
       "      <td>33</td>\n",
       "      <td>Chococups with Lamsa's Kitchen video</td>\n",
       "      <td>4</td>\n",
       "      <td>2</td>\n",
       "      <td>18</td>\n",
       "      <td>NaN</td>\n",
       "      <td>0</td>\n",
       "      <td>350.0</td>\n",
       "    </tr>\n",
       "    <tr>\n",
       "      <th>157</th>\n",
       "      <td>299</td>\n",
       "      <td>16</td>\n",
       "      <td>33</td>\n",
       "      <td>Pink Hummus with Lamsa's Kitchen video</td>\n",
       "      <td>4</td>\n",
       "      <td>1</td>\n",
       "      <td>18</td>\n",
       "      <td>NaN</td>\n",
       "      <td>0</td>\n",
       "      <td>360.0</td>\n",
       "    </tr>\n",
       "    <tr>\n",
       "      <th>162</th>\n",
       "      <td>304</td>\n",
       "      <td>15</td>\n",
       "      <td>33</td>\n",
       "      <td>Doctor’s Clinic</td>\n",
       "      <td>38</td>\n",
       "      <td>1</td>\n",
       "      <td>7</td>\n",
       "      <td>NaN</td>\n",
       "      <td>0</td>\n",
       "      <td>120.0</td>\n",
       "    </tr>\n",
       "    <tr>\n",
       "      <th>163</th>\n",
       "      <td>305</td>\n",
       "      <td>8</td>\n",
       "      <td>31</td>\n",
       "      <td>Why Do Computers Know So Much</td>\n",
       "      <td>32</td>\n",
       "      <td>1</td>\n",
       "      <td>10</td>\n",
       "      <td>NaN</td>\n",
       "      <td>10</td>\n",
       "      <td>210.0</td>\n",
       "    </tr>\n",
       "    <tr>\n",
       "      <th>...</th>\n",
       "      <td>...</td>\n",
       "      <td>...</td>\n",
       "      <td>...</td>\n",
       "      <td>...</td>\n",
       "      <td>...</td>\n",
       "      <td>...</td>\n",
       "      <td>...</td>\n",
       "      <td>...</td>\n",
       "      <td>...</td>\n",
       "      <td>...</td>\n",
       "    </tr>\n",
       "    <tr>\n",
       "      <th>796</th>\n",
       "      <td>952</td>\n",
       "      <td>21</td>\n",
       "      <td>31</td>\n",
       "      <td>Nahool the Problem Solver</td>\n",
       "      <td>4</td>\n",
       "      <td>2</td>\n",
       "      <td>14</td>\n",
       "      <td>NaN</td>\n",
       "      <td>10</td>\n",
       "      <td>200.0</td>\n",
       "    </tr>\n",
       "    <tr>\n",
       "      <th>798</th>\n",
       "      <td>954</td>\n",
       "      <td>16</td>\n",
       "      <td>33</td>\n",
       "      <td>Shish Train with Lamsa's Kitchen</td>\n",
       "      <td>4</td>\n",
       "      <td>1</td>\n",
       "      <td>18</td>\n",
       "      <td>NaN</td>\n",
       "      <td>0</td>\n",
       "      <td>405.0</td>\n",
       "    </tr>\n",
       "    <tr>\n",
       "      <th>801</th>\n",
       "      <td>957</td>\n",
       "      <td>16</td>\n",
       "      <td>33</td>\n",
       "      <td>Rabbit Pancakes with Lamsa's Kitchen</td>\n",
       "      <td>4</td>\n",
       "      <td>1</td>\n",
       "      <td>18</td>\n",
       "      <td>NaN</td>\n",
       "      <td>0</td>\n",
       "      <td>300.0</td>\n",
       "    </tr>\n",
       "    <tr>\n",
       "      <th>803</th>\n",
       "      <td>959</td>\n",
       "      <td>16</td>\n",
       "      <td>33</td>\n",
       "      <td>Fruit Kebab with Lamsa's Kitchen</td>\n",
       "      <td>4</td>\n",
       "      <td>1</td>\n",
       "      <td>18</td>\n",
       "      <td>NaN</td>\n",
       "      <td>0</td>\n",
       "      <td>180.0</td>\n",
       "    </tr>\n",
       "    <tr>\n",
       "      <th>805</th>\n",
       "      <td>961</td>\n",
       "      <td>16</td>\n",
       "      <td>33</td>\n",
       "      <td>Kofta Owl with Lamsa's Kitchen</td>\n",
       "      <td>4</td>\n",
       "      <td>1</td>\n",
       "      <td>18</td>\n",
       "      <td>NaN</td>\n",
       "      <td>0</td>\n",
       "      <td>360.0</td>\n",
       "    </tr>\n",
       "  </tbody>\n",
       "</table>\n",
       "<p>583 rows × 10 columns</p>\n",
       "</div>"
      ],
      "text/plain": [
       "     ITEM_ID  PRIMARY_LEARNING_OBJECTIVE_ID  CONTENT_TYPE  \\\n",
       "59       189                             10            33   \n",
       "154      296                             16            33   \n",
       "157      299                             16            33   \n",
       "162      304                             15            33   \n",
       "163      305                              8            31   \n",
       "..       ...                            ...           ...   \n",
       "796      952                             21            31   \n",
       "798      954                             16            33   \n",
       "801      957                             16            33   \n",
       "803      959                             16            33   \n",
       "805      961                             16            33   \n",
       "\n",
       "                               DISPLAY_NAME  PUBLISHER_ID  PRICING_TYPE  \\\n",
       "59                          Fanakeeb: Panda             4             1   \n",
       "154    Chococups with Lamsa's Kitchen video             4             2   \n",
       "157  Pink Hummus with Lamsa's Kitchen video             4             1   \n",
       "162                         Doctor’s Clinic            38             1   \n",
       "163           Why Do Computers Know So Much            32             1   \n",
       "..                                      ...           ...           ...   \n",
       "796               Nahool the Problem Solver             4             2   \n",
       "798        Shish Train with Lamsa's Kitchen             4             1   \n",
       "801    Rabbit Pancakes with Lamsa's Kitchen             4             1   \n",
       "803        Fruit Kebab with Lamsa's Kitchen             4             1   \n",
       "805          Kofta Owl with Lamsa's Kitchen             4             1   \n",
       "\n",
       "     GENRE GAME_GENRE  NUMBER_OF_PAGES  ESTIMATED_CONTENT_DURATION  \n",
       "59      13        NaN                0                       135.0  \n",
       "154     18        NaN                0                       350.0  \n",
       "157     18        NaN                0                       360.0  \n",
       "162      7        NaN                0                       120.0  \n",
       "163     10        NaN               10                       210.0  \n",
       "..     ...        ...              ...                         ...  \n",
       "796     14        NaN               10                       200.0  \n",
       "798     18        NaN                0                       405.0  \n",
       "801     18        NaN                0                       300.0  \n",
       "803     18        NaN                0                       180.0  \n",
       "805     18        NaN                0                       360.0  \n",
       "\n",
       "[583 rows x 10 columns]"
      ]
     },
     "execution_count": 12,
     "metadata": {},
     "output_type": "execute_result"
    }
   ],
   "source": [
    "content_df[content_df['GAME_GENRE'].isnull()]"
   ]
  },
  {
   "cell_type": "code",
   "execution_count": 13,
   "metadata": {},
   "outputs": [
    {
     "data": {
      "text/plain": [
       "array([False])"
      ]
     },
     "execution_count": 13,
     "metadata": {},
     "output_type": "execute_result"
    }
   ],
   "source": [
    "content_history_df['USER_ID'].isnull().unique()"
   ]
  },
  {
   "cell_type": "code",
   "execution_count": 14,
   "metadata": {},
   "outputs": [
    {
     "name": "stdout",
     "output_type": "stream",
     "text": [
      "<class 'pandas.core.frame.DataFrame'>\n",
      "RangeIndex: 14003039 entries, 0 to 14003038\n",
      "Data columns (total 9 columns):\n",
      " #   Column       Dtype \n",
      "---  ------       ----- \n",
      " 0   USER_ID      int64 \n",
      " 1   KID_ID       int64 \n",
      " 2   CATEGORY_ID  int64 \n",
      " 3   SECTION_ID   int64 \n",
      " 4   ITEM_ID      int64 \n",
      " 5   USER_TYPE    int64 \n",
      " 6   TIME_SPEND   int64 \n",
      " 7   COUNTRY      object\n",
      " 8   TIMESTAMP    int64 \n",
      "dtypes: int64(8), object(1)\n",
      "memory usage: 961.5+ MB\n"
     ]
    }
   ],
   "source": [
    "content_history_df.info()"
   ]
  },
  {
   "cell_type": "code",
   "execution_count": 15,
   "metadata": {},
   "outputs": [
    {
     "data": {
      "text/plain": [
       "array([False])"
      ]
     },
     "execution_count": 15,
     "metadata": {},
     "output_type": "execute_result"
    }
   ],
   "source": [
    "content_history_df['KID_ID'].isnull().unique()"
   ]
  },
  {
   "cell_type": "code",
   "execution_count": 16,
   "metadata": {},
   "outputs": [
    {
     "data": {
      "text/plain": [
       "array([False])"
      ]
     },
     "execution_count": 16,
     "metadata": {},
     "output_type": "execute_result"
    }
   ],
   "source": [
    "content_history_df['CATEGORY_ID'].isnull().unique()"
   ]
  },
  {
   "cell_type": "code",
   "execution_count": 17,
   "metadata": {},
   "outputs": [
    {
     "data": {
      "text/plain": [
       "array([False,  True])"
      ]
     },
     "execution_count": 17,
     "metadata": {},
     "output_type": "execute_result"
    }
   ],
   "source": [
    "content_df['GAME_GENRE'].isnull().unique()"
   ]
  },
  {
   "cell_type": "code",
   "execution_count": 18,
   "metadata": {},
   "outputs": [
    {
     "data": {
      "text/plain": [
       "array([False])"
      ]
     },
     "execution_count": 18,
     "metadata": {},
     "output_type": "execute_result"
    }
   ],
   "source": [
    "content_history_df['SECTION_ID'].isnull().unique()"
   ]
  },
  {
   "cell_type": "code",
   "execution_count": 19,
   "metadata": {},
   "outputs": [
    {
     "data": {
      "text/plain": [
       "array([False,  True])"
      ]
     },
     "execution_count": 19,
     "metadata": {},
     "output_type": "execute_result"
    }
   ],
   "source": [
    "content_history_df['COUNTRY'].isnull().unique()"
   ]
  },
  {
   "cell_type": "code",
   "execution_count": 20,
   "metadata": {},
   "outputs": [
    {
     "data": {
      "text/plain": [
       "array([False])"
      ]
     },
     "execution_count": 20,
     "metadata": {},
     "output_type": "execute_result"
    }
   ],
   "source": [
    "content_history_df['ITEM_ID'].isnull().unique()"
   ]
  },
  {
   "cell_type": "code",
   "execution_count": 21,
   "metadata": {},
   "outputs": [
    {
     "data": {
      "text/plain": [
       "array([False])"
      ]
     },
     "execution_count": 21,
     "metadata": {},
     "output_type": "execute_result"
    }
   ],
   "source": [
    "content_history_df['USER_TYPE'].isnull().unique()"
   ]
  },
  {
   "cell_type": "code",
   "execution_count": 22,
   "metadata": {},
   "outputs": [
    {
     "data": {
      "text/plain": [
       "array([False])"
      ]
     },
     "execution_count": 22,
     "metadata": {},
     "output_type": "execute_result"
    }
   ],
   "source": [
    "content_history_df['TIME_SPEND'].isnull().unique()"
   ]
  },
  {
   "cell_type": "code",
   "execution_count": 23,
   "metadata": {},
   "outputs": [
    {
     "data": {
      "text/plain": [
       "array([False])"
      ]
     },
     "execution_count": 23,
     "metadata": {},
     "output_type": "execute_result"
    }
   ],
   "source": [
    "content_history_df['TIMESTAMP'].isnull().unique()"
   ]
  },
  {
   "cell_type": "code",
   "execution_count": 24,
   "metadata": {},
   "outputs": [
    {
     "data": {
      "text/plain": [
       "<AxesSubplot:>"
      ]
     },
     "execution_count": 24,
     "metadata": {},
     "output_type": "execute_result"
    },
    {
     "data": {
      "image/png": "[encoded data removed]",
      "text/plain": [
       "<Figure size 432x288 with 1 Axes>"
      ]
     },
     "metadata": {
      "needs_background": "light"
     },
     "output_type": "display_data"
    }
   ],
   "source": [
    "sns.heatmap(content_df.isnull(), yticklabels = False, cbar = False, cmap=\"Blues\")"
   ]
  },
  {
   "cell_type": "code",
   "execution_count": 25,
   "metadata": {},
   "outputs": [
    {
     "data": {
      "text/plain": [
       "<AxesSubplot:>"
      ]
     },
     "execution_count": 25,
     "metadata": {},
     "output_type": "execute_result"
    },
    {
     "data": {
      "image/png": "[encoded data removed]",
      "text/plain": [
       "<Figure size 432x288 with 1 Axes>"
      ]
     },
     "metadata": {
      "needs_background": "light"
     },
     "output_type": "display_data"
    }
   ],
   "source": [
    "sns.heatmap(content_history_df.isnull(), yticklabels = False, cbar = False, cmap=\"Blues\")"
   ]
  },
  {
   "cell_type": "code",
   "execution_count": 26,
   "metadata": {},
   "outputs": [
    {
     "data": {
      "text/plain": [
       "USER_ID           0\n",
       "KID_ID            0\n",
       "CATEGORY_ID       0\n",
       "SECTION_ID        0\n",
       "ITEM_ID           0\n",
       "USER_TYPE         0\n",
       "TIME_SPEND        0\n",
       "COUNTRY        1460\n",
       "TIMESTAMP         0\n",
       "dtype: int64"
      ]
     },
     "execution_count": 26,
     "metadata": {},
     "output_type": "execute_result"
    }
   ],
   "source": [
    "content_history_df.isnull().sum()"
   ]
  },
  {
   "cell_type": "code",
   "execution_count": 27,
   "metadata": {},
   "outputs": [
    {
     "data": {
      "text/plain": [
       "ITEM_ID                            0\n",
       "PRIMARY_LEARNING_OBJECTIVE_ID      0\n",
       "CONTENT_TYPE                       0\n",
       "DISPLAY_NAME                       0\n",
       "PUBLISHER_ID                       0\n",
       "PRICING_TYPE                       0\n",
       "GENRE                              0\n",
       "GAME_GENRE                       583\n",
       "NUMBER_OF_PAGES                    0\n",
       "ESTIMATED_CONTENT_DURATION         0\n",
       "dtype: int64"
      ]
     },
     "execution_count": 27,
     "metadata": {},
     "output_type": "execute_result"
    }
   ],
   "source": [
    "content_df.isnull().sum()"
   ]
  },
  {
   "cell_type": "code",
   "execution_count": 28,
   "metadata": {},
   "outputs": [
    {
     "data": {
      "text/plain": [
       "327    812932\n",
       "296    768583\n",
       "405    632309\n",
       "251    605208\n",
       "231    477071\n",
       "        ...  \n",
       "167         5\n",
       "105         4\n",
       "47          3\n",
       "45          3\n",
       "141         2\n",
       "Name: ITEM_ID, Length: 901, dtype: int64"
      ]
     },
     "execution_count": 28,
     "metadata": {},
     "output_type": "execute_result"
    }
   ],
   "source": [
    "content_history_df['ITEM_ID'].value_counts()"
   ]
  },
  {
   "cell_type": "code",
   "execution_count": 29,
   "metadata": {},
   "outputs": [],
   "source": [
    "c = content_history_df['ITEM_ID'].unique()"
   ]
  },
  {
   "cell_type": "code",
   "execution_count": 30,
   "metadata": {},
   "outputs": [
    {
     "data": {
      "text/plain": [
       "array([  4,   5,   6,   7,   8,   9,  10,  11,  12,  24,  25,  26,  27,\n",
       "        28,  29,  30,  31,  32,  33,  34,  35,  36,  37,  38,  39,  40,\n",
       "        41,  42,  43,  44,  45,  46,  47,  48,  49,  50,  51,  52,  53,\n",
       "        54,  55,  56,  57,  58,  59,  60,  61,  62,  63,  64,  65,  66,\n",
       "        67,  68,  69,  70,  72,  75,  76,  80,  81,  83,  84,  85,  89,\n",
       "        92,  96,  98, 101, 104, 105, 112, 113, 114, 115, 116, 117, 118,\n",
       "       119, 120, 121, 122, 123, 124, 125, 126, 127, 129, 131, 133, 135,\n",
       "       136, 137, 138, 139, 140, 141, 142, 143, 144, 145, 146, 147, 148,\n",
       "       149, 150, 151, 152, 153, 154, 155, 156, 157, 159, 160, 161, 162,\n",
       "       163, 164, 165, 166, 167, 168, 169, 170, 171, 172, 173, 174, 175,\n",
       "       176, 177, 178, 179, 180, 181, 182, 183, 184, 185, 186, 187, 188,\n",
       "       189, 190, 191, 192, 193, 194, 195, 197, 198, 199, 200, 201, 202,\n",
       "       203, 204, 205, 206, 207, 208, 209, 210, 211, 212, 213, 214, 215,\n",
       "       216, 217, 218, 219, 220, 221, 222, 223, 224, 227, 228, 229, 230,\n",
       "       231, 232, 234, 235, 236, 237, 238, 239, 240, 241, 242, 243, 244,\n",
       "       245, 246, 247, 248, 249, 250, 251, 253, 254, 255, 256, 257, 258,\n",
       "       259, 260, 261, 266, 267, 269, 270, 271, 272, 273, 274, 275, 276,\n",
       "       277, 278, 279, 280, 281, 282, 283, 284, 285, 287, 288, 289, 290,\n",
       "       291, 292, 293, 294, 295, 296, 297, 298, 299, 300, 301, 302, 303,\n",
       "       304, 305, 306, 307, 308, 309, 310, 311, 312, 313, 314, 315, 316,\n",
       "       317, 318, 319, 320, 321, 322, 323, 324, 325, 326, 327, 328, 329,\n",
       "       330, 331, 332, 333, 334, 335, 336, 337, 338, 339, 340, 341, 342,\n",
       "       343, 344, 345, 346, 347, 348, 349, 350, 351, 352, 353, 354, 355,\n",
       "       356, 357, 358, 359, 360, 361, 362, 363, 364, 365, 366, 367, 368,\n",
       "       369, 370, 371, 372, 373, 374, 375, 376, 377, 378, 379, 380, 381,\n",
       "       382, 383, 384, 385, 386, 387, 388, 389, 390, 391, 392, 393, 395,\n",
       "       396, 397, 398, 399, 400, 401, 402, 403, 404, 405, 406, 407, 408,\n",
       "       409, 410, 411, 412, 413, 415, 416, 417, 418, 419, 420, 421, 422,\n",
       "       423, 424, 425, 426, 427, 428, 429, 430, 431, 432, 433, 434, 435,\n",
       "       436, 437, 438, 439, 440, 441, 442, 443, 444, 445, 446, 447, 448,\n",
       "       449, 450, 451, 452, 453, 454, 455, 456, 457, 458, 459, 460, 461,\n",
       "       463, 464, 465, 466, 467, 468, 469, 470, 471, 472, 473, 474, 475,\n",
       "       476, 477, 478, 479, 480, 481, 482, 483, 484, 485, 486, 487, 488,\n",
       "       489, 490, 491, 492, 493, 494, 495, 496, 497, 498, 499, 500, 501,\n",
       "       502, 503, 504, 505, 506, 507, 508, 509, 510, 511, 512, 513, 514,\n",
       "       515, 516, 517, 518, 519, 520, 521, 522, 523, 524, 525, 526, 527,\n",
       "       528, 529, 530, 531, 532, 533, 534, 535, 536, 537, 538, 539, 540,\n",
       "       541, 542, 543, 544, 545, 546, 547, 548, 549, 550, 551, 552, 553,\n",
       "       554, 555, 556, 557, 558, 559, 560, 561, 562, 563, 564, 565, 566,\n",
       "       567, 568, 569, 570, 571, 572, 573, 574, 575, 576, 577, 578, 579,\n",
       "       580, 581, 582, 583, 584, 585, 586, 587, 588, 589, 590, 591, 592,\n",
       "       593, 594, 595, 596, 597, 598, 599, 600, 601, 602, 603, 604, 605,\n",
       "       606, 607, 608, 609, 610, 611, 612, 613, 614, 615, 616, 617, 618,\n",
       "       619, 620, 621, 622, 623, 624, 625, 626, 627, 628, 629, 630, 631,\n",
       "       632, 633, 634, 635, 636, 637, 638, 639, 640, 641, 642, 643, 644,\n",
       "       645, 646, 647, 648, 649, 650, 651, 652, 653, 654, 655, 656, 657,\n",
       "       658, 660, 661, 662, 663, 664, 665, 666, 667, 668, 669, 670, 671,\n",
       "       673, 674, 675, 676, 677, 678, 679, 680, 681, 682, 683, 684, 685,\n",
       "       686, 687, 688, 689, 690, 691, 692, 693, 694, 695, 696, 697, 698,\n",
       "       699, 700, 701, 702, 703, 704, 705, 706, 707, 708, 709, 710, 711,\n",
       "       712, 713, 714, 715, 716, 717, 718, 719, 720, 721, 722, 723, 724,\n",
       "       725, 726, 727, 728, 729, 730, 731, 732, 733, 734, 735, 736, 737,\n",
       "       738, 739, 740, 741, 742, 743, 744, 745, 746, 747, 748, 749, 750,\n",
       "       751, 752, 753, 754, 755, 756, 757, 758, 759, 760, 761, 762, 763,\n",
       "       764, 765, 766, 767, 768, 769, 770, 771, 772, 773, 774, 775, 776,\n",
       "       777, 778, 779, 780, 781, 782, 783, 784, 785, 786, 787, 788, 789,\n",
       "       790, 791, 792, 793, 794, 795, 796, 797, 798, 799, 800, 801, 802,\n",
       "       803, 804, 805, 806, 807, 808, 809, 810, 811, 812, 813, 814, 815,\n",
       "       816, 817, 818, 819, 820, 821, 822, 823, 824, 825, 826, 827, 828,\n",
       "       829, 830, 831, 832, 833, 834, 835, 836, 837, 838, 839, 840, 841,\n",
       "       842, 843, 844, 845, 846, 847, 848, 849, 850, 851, 852, 853, 854,\n",
       "       855, 856, 857, 858, 859, 860, 861, 862, 863, 864, 865, 866, 867,\n",
       "       868, 869, 870, 871, 872, 873, 874, 875, 876, 877, 878, 879, 880,\n",
       "       881, 882, 883, 884, 885, 886, 887, 888, 889, 890, 891, 892, 893,\n",
       "       894, 895, 896, 897, 898, 899, 900, 901, 902, 903, 904, 905, 906,\n",
       "       907, 908, 909, 910, 911, 912, 913, 914, 915, 916, 917, 918, 919,\n",
       "       920, 921, 922, 923, 924, 925, 926, 927, 928, 929, 930, 931, 932,\n",
       "       933, 934, 935, 936, 937, 938, 939, 940, 941, 942, 943, 944, 945,\n",
       "       946, 947, 948, 949, 950, 951, 952, 953, 954, 955, 956, 957, 958,\n",
       "       959, 960, 961, 962])"
      ]
     },
     "execution_count": 30,
     "metadata": {},
     "output_type": "execute_result"
    }
   ],
   "source": [
    "np.sort(c)"
   ]
  },
  {
   "cell_type": "code",
   "execution_count": 31,
   "metadata": {},
   "outputs": [],
   "source": [
    "d = content_df['ITEM_ID'].unique()"
   ]
  },
  {
   "cell_type": "code",
   "execution_count": 32,
   "metadata": {},
   "outputs": [
    {
     "data": {
      "text/plain": [
       "array([  9,  10,  11,  12,  62,  81,  84, 112, 113, 114, 115, 116, 117,\n",
       "       118, 119, 120, 121, 122, 123, 124, 125, 126, 129, 131, 133, 135,\n",
       "       136, 138, 139, 140, 142, 144, 145, 146, 147, 148, 149, 153, 155,\n",
       "       156, 157, 159, 161, 163, 165, 166, 169, 171, 172, 173, 174, 175,\n",
       "       177, 178, 180, 184, 185, 186, 187, 189, 190, 191, 192, 193, 194,\n",
       "       195, 197, 198, 199, 200, 201, 202, 203, 204, 205, 206, 207, 208,\n",
       "       209, 210, 211, 212, 213, 214, 215, 216, 217, 218, 219, 220, 221,\n",
       "       222, 223, 227, 228, 229, 230, 231, 232, 234, 235, 236, 237, 238,\n",
       "       239, 240, 241, 242, 243, 244, 245, 246, 247, 248, 249, 250, 251,\n",
       "       253, 254, 255, 256, 257, 258, 259, 260, 261, 266, 267, 269, 270,\n",
       "       271, 272, 273, 274, 275, 276, 277, 278, 279, 280, 281, 282, 283,\n",
       "       284, 285, 287, 288, 289, 290, 291, 292, 293, 294, 295, 296, 297,\n",
       "       298, 299, 300, 301, 302, 303, 304, 305, 306, 307, 308, 310, 311,\n",
       "       312, 313, 314, 315, 316, 317, 318, 319, 320, 321, 322, 323, 324,\n",
       "       325, 326, 327, 328, 329, 330, 331, 332, 333, 334, 335, 336, 337,\n",
       "       338, 339, 340, 341, 342, 343, 344, 345, 346, 347, 348, 349, 350,\n",
       "       351, 352, 353, 354, 355, 356, 357, 358, 359, 360, 361, 362, 363,\n",
       "       364, 365, 366, 367, 368, 369, 370, 371, 372, 373, 374, 375, 376,\n",
       "       377, 378, 379, 380, 381, 382, 383, 384, 385, 386, 388, 389, 390,\n",
       "       391, 392, 393, 395, 396, 397, 398, 399, 400, 401, 402, 403, 404,\n",
       "       405, 406, 407, 408, 409, 410, 411, 412, 413, 415, 416, 417, 418,\n",
       "       419, 420, 421, 422, 423, 424, 425, 426, 427, 428, 429, 430, 431,\n",
       "       432, 433, 434, 435, 436, 437, 438, 439, 440, 441, 442, 443, 444,\n",
       "       445, 446, 447, 449, 453, 454, 455, 456, 457, 458, 460, 461, 463,\n",
       "       464, 465, 466, 467, 468, 469, 470, 471, 472, 473, 474, 475, 476,\n",
       "       477, 478, 479, 480, 481, 482, 483, 484, 485, 486, 487, 488, 489,\n",
       "       490, 491, 492, 494, 495, 496, 497, 498, 499, 500, 501, 502, 503,\n",
       "       504, 505, 506, 507, 508, 509, 510, 511, 512, 513, 514, 515, 516,\n",
       "       517, 518, 519, 520, 521, 522, 523, 524, 525, 526, 527, 528, 529,\n",
       "       530, 531, 532, 533, 534, 535, 536, 537, 538, 539, 540, 541, 542,\n",
       "       543, 544, 545, 546, 547, 548, 549, 550, 551, 552, 553, 554, 555,\n",
       "       556, 557, 558, 559, 560, 561, 562, 563, 564, 565, 566, 567, 569,\n",
       "       570, 571, 572, 573, 574, 575, 576, 577, 578, 579, 580, 581, 582,\n",
       "       583, 584, 585, 586, 587, 588, 589, 590, 591, 592, 593, 594, 595,\n",
       "       596, 597, 598, 599, 600, 601, 602, 603, 604, 605, 606, 607, 608,\n",
       "       609, 610, 611, 612, 613, 614, 615, 616, 617, 618, 619, 620, 621,\n",
       "       622, 623, 624, 625, 626, 627, 628, 629, 630, 631, 632, 633, 634,\n",
       "       635, 636, 637, 638, 639, 640, 641, 642, 643, 644, 645, 646, 647,\n",
       "       648, 649, 650, 651, 652, 653, 654, 655, 656, 657, 658, 660, 661,\n",
       "       662, 663, 664, 665, 666, 667, 668, 669, 670, 671, 673, 674, 675,\n",
       "       676, 677, 678, 679, 680, 681, 682, 683, 684, 685, 686, 687, 688,\n",
       "       689, 690, 691, 692, 693, 694, 695, 696, 697, 698, 699, 700, 701,\n",
       "       702, 703, 704, 705, 706, 707, 708, 709, 710, 711, 712, 713, 714,\n",
       "       715, 716, 717, 718, 719, 720, 721, 722, 723, 724, 725, 726, 727,\n",
       "       728, 729, 730, 731, 732, 733, 734, 735, 736, 737, 738, 739, 740,\n",
       "       741, 742, 743, 744, 745, 746, 747, 748, 749, 750, 751, 752, 753,\n",
       "       754, 755, 756, 757, 758, 759, 760, 761, 762, 763, 764, 765, 766,\n",
       "       767, 768, 769, 770, 771, 772, 773, 774, 775, 776, 777, 778, 779,\n",
       "       780, 781, 782, 783, 784, 785, 786, 787, 788, 789, 790, 791, 792,\n",
       "       793, 794, 795, 796, 797, 798, 799, 800, 801, 802, 803, 804, 805,\n",
       "       806, 807, 808, 809, 810, 811, 812, 813, 814, 815, 816, 817, 818,\n",
       "       819, 820, 821, 822, 823, 824, 825, 826, 827, 828, 829, 830, 831,\n",
       "       832, 833, 834, 835, 836, 837, 838, 839, 840, 841, 842, 843, 844,\n",
       "       845, 846, 847, 848, 849, 850, 851, 852, 853, 854, 855, 856, 857,\n",
       "       858, 859, 860, 861, 862, 863, 864, 865, 866, 867, 868, 869, 870,\n",
       "       871, 872, 873, 874, 875, 876, 877, 878, 879, 880, 881, 882, 883,\n",
       "       884, 885, 886, 887, 888, 889, 890, 891, 892, 893, 894, 895, 896,\n",
       "       897, 898, 899, 900, 901, 902, 903, 904, 905, 906, 907, 908, 909,\n",
       "       910, 911, 912, 913, 914, 915, 916, 917, 918, 919, 920, 921, 922,\n",
       "       923, 924, 925, 926, 927, 928, 929, 930, 931, 932, 933, 934, 935,\n",
       "       936, 937, 938, 939, 940, 941, 942, 943, 944, 945, 946, 947, 948,\n",
       "       949, 950, 951, 952, 953, 954, 955, 956, 957, 958, 959, 960, 961,\n",
       "       962])"
      ]
     },
     "execution_count": 32,
     "metadata": {},
     "output_type": "execute_result"
    }
   ],
   "source": [
    "np.sort(d)"
   ]
  },
  {
   "cell_type": "code",
   "execution_count": 33,
   "metadata": {},
   "outputs": [
    {
     "data": {
      "text/html": [
       "<div>\n",
       "<style scoped>\n",
       "    .dataframe tbody tr th:only-of-type {\n",
       "        vertical-align: middle;\n",
       "    }\n",
       "\n",
       "    .dataframe tbody tr th {\n",
       "        vertical-align: top;\n",
       "    }\n",
       "\n",
       "    .dataframe thead th {\n",
       "        text-align: right;\n",
       "    }\n",
       "</style>\n",
       "<table border=\"1\" class=\"dataframe\">\n",
       "  <thead>\n",
       "    <tr style=\"text-align: right;\">\n",
       "      <th></th>\n",
       "      <th>USER_ID</th>\n",
       "      <th>KID_ID</th>\n",
       "      <th>CATEGORY_ID</th>\n",
       "      <th>SECTION_ID</th>\n",
       "      <th>ITEM_ID</th>\n",
       "      <th>USER_TYPE</th>\n",
       "      <th>TIME_SPEND</th>\n",
       "      <th>COUNTRY</th>\n",
       "      <th>TIMESTAMP</th>\n",
       "    </tr>\n",
       "  </thead>\n",
       "  <tbody>\n",
       "    <tr>\n",
       "      <th>198</th>\n",
       "      <td>4409630</td>\n",
       "      <td>442695</td>\n",
       "      <td>0</td>\n",
       "      <td>0</td>\n",
       "      <td>231</td>\n",
       "      <td>2</td>\n",
       "      <td>0</td>\n",
       "      <td>EG</td>\n",
       "      <td>1601511206</td>\n",
       "    </tr>\n",
       "    <tr>\n",
       "      <th>200</th>\n",
       "      <td>4409630</td>\n",
       "      <td>442695</td>\n",
       "      <td>0</td>\n",
       "      <td>0</td>\n",
       "      <td>231</td>\n",
       "      <td>2</td>\n",
       "      <td>0</td>\n",
       "      <td>EG</td>\n",
       "      <td>1601511206</td>\n",
       "    </tr>\n",
       "    <tr>\n",
       "      <th>201</th>\n",
       "      <td>4409630</td>\n",
       "      <td>442695</td>\n",
       "      <td>0</td>\n",
       "      <td>0</td>\n",
       "      <td>231</td>\n",
       "      <td>2</td>\n",
       "      <td>0</td>\n",
       "      <td>EG</td>\n",
       "      <td>1601511206</td>\n",
       "    </tr>\n",
       "    <tr>\n",
       "      <th>202</th>\n",
       "      <td>4409630</td>\n",
       "      <td>442695</td>\n",
       "      <td>0</td>\n",
       "      <td>0</td>\n",
       "      <td>231</td>\n",
       "      <td>2</td>\n",
       "      <td>0</td>\n",
       "      <td>EG</td>\n",
       "      <td>1601511206</td>\n",
       "    </tr>\n",
       "    <tr>\n",
       "      <th>231</th>\n",
       "      <td>0</td>\n",
       "      <td>0</td>\n",
       "      <td>0</td>\n",
       "      <td>0</td>\n",
       "      <td>175</td>\n",
       "      <td>2</td>\n",
       "      <td>0</td>\n",
       "      <td>SA</td>\n",
       "      <td>1601511286</td>\n",
       "    </tr>\n",
       "    <tr>\n",
       "      <th>...</th>\n",
       "      <td>...</td>\n",
       "      <td>...</td>\n",
       "      <td>...</td>\n",
       "      <td>...</td>\n",
       "      <td>...</td>\n",
       "      <td>...</td>\n",
       "      <td>...</td>\n",
       "      <td>...</td>\n",
       "      <td>...</td>\n",
       "    </tr>\n",
       "    <tr>\n",
       "      <th>14002641</th>\n",
       "      <td>5232268</td>\n",
       "      <td>0</td>\n",
       "      <td>0</td>\n",
       "      <td>0</td>\n",
       "      <td>327</td>\n",
       "      <td>1</td>\n",
       "      <td>3</td>\n",
       "      <td>OM</td>\n",
       "      <td>1616848200</td>\n",
       "    </tr>\n",
       "    <tr>\n",
       "      <th>14002642</th>\n",
       "      <td>5232268</td>\n",
       "      <td>0</td>\n",
       "      <td>0</td>\n",
       "      <td>0</td>\n",
       "      <td>161</td>\n",
       "      <td>1</td>\n",
       "      <td>143</td>\n",
       "      <td>OM</td>\n",
       "      <td>1616848200</td>\n",
       "    </tr>\n",
       "    <tr>\n",
       "      <th>14002654</th>\n",
       "      <td>5232268</td>\n",
       "      <td>0</td>\n",
       "      <td>0</td>\n",
       "      <td>0</td>\n",
       "      <td>11</td>\n",
       "      <td>1</td>\n",
       "      <td>58</td>\n",
       "      <td>OM</td>\n",
       "      <td>1616848200</td>\n",
       "    </tr>\n",
       "    <tr>\n",
       "      <th>14002658</th>\n",
       "      <td>5232268</td>\n",
       "      <td>0</td>\n",
       "      <td>0</td>\n",
       "      <td>0</td>\n",
       "      <td>514</td>\n",
       "      <td>1</td>\n",
       "      <td>39</td>\n",
       "      <td>OM</td>\n",
       "      <td>1616848200</td>\n",
       "    </tr>\n",
       "    <tr>\n",
       "      <th>14002751</th>\n",
       "      <td>5578546</td>\n",
       "      <td>965846</td>\n",
       "      <td>0</td>\n",
       "      <td>0</td>\n",
       "      <td>943</td>\n",
       "      <td>1</td>\n",
       "      <td>837</td>\n",
       "      <td>SA</td>\n",
       "      <td>1616848325</td>\n",
       "    </tr>\n",
       "  </tbody>\n",
       "</table>\n",
       "<p>1176695 rows × 9 columns</p>\n",
       "</div>"
      ],
      "text/plain": [
       "          USER_ID  KID_ID  CATEGORY_ID  SECTION_ID  ITEM_ID  USER_TYPE  \\\n",
       "198       4409630  442695            0           0      231          2   \n",
       "200       4409630  442695            0           0      231          2   \n",
       "201       4409630  442695            0           0      231          2   \n",
       "202       4409630  442695            0           0      231          2   \n",
       "231             0       0            0           0      175          2   \n",
       "...           ...     ...          ...         ...      ...        ...   \n",
       "14002641  5232268       0            0           0      327          1   \n",
       "14002642  5232268       0            0           0      161          1   \n",
       "14002654  5232268       0            0           0       11          1   \n",
       "14002658  5232268       0            0           0      514          1   \n",
       "14002751  5578546  965846            0           0      943          1   \n",
       "\n",
       "          TIME_SPEND COUNTRY   TIMESTAMP  \n",
       "198                0      EG  1601511206  \n",
       "200                0      EG  1601511206  \n",
       "201                0      EG  1601511206  \n",
       "202                0      EG  1601511206  \n",
       "231                0      SA  1601511286  \n",
       "...              ...     ...         ...  \n",
       "14002641           3      OM  1616848200  \n",
       "14002642         143      OM  1616848200  \n",
       "14002654          58      OM  1616848200  \n",
       "14002658          39      OM  1616848200  \n",
       "14002751         837      SA  1616848325  \n",
       "\n",
       "[1176695 rows x 9 columns]"
      ]
     },
     "execution_count": 33,
     "metadata": {},
     "output_type": "execute_result"
    }
   ],
   "source": [
    "content_history_df[content_history_df.duplicated()]"
   ]
  },
  {
   "cell_type": "code",
   "execution_count": 34,
   "metadata": {},
   "outputs": [],
   "source": [
    "merged_df = pd.merge(content_history_df, content_df, on = ['ITEM_ID'], how = 'left')"
   ]
  },
  {
   "cell_type": "code",
   "execution_count": 35,
   "metadata": {},
   "outputs": [
    {
     "data": {
      "text/html": [
       "<div>\n",
       "<style scoped>\n",
       "    .dataframe tbody tr th:only-of-type {\n",
       "        vertical-align: middle;\n",
       "    }\n",
       "\n",
       "    .dataframe tbody tr th {\n",
       "        vertical-align: top;\n",
       "    }\n",
       "\n",
       "    .dataframe thead th {\n",
       "        text-align: right;\n",
       "    }\n",
       "</style>\n",
       "<table border=\"1\" class=\"dataframe\">\n",
       "  <thead>\n",
       "    <tr style=\"text-align: right;\">\n",
       "      <th></th>\n",
       "      <th>USER_ID</th>\n",
       "      <th>KID_ID</th>\n",
       "      <th>CATEGORY_ID</th>\n",
       "      <th>SECTION_ID</th>\n",
       "      <th>ITEM_ID</th>\n",
       "      <th>USER_TYPE</th>\n",
       "      <th>TIME_SPEND</th>\n",
       "      <th>COUNTRY</th>\n",
       "      <th>TIMESTAMP</th>\n",
       "      <th>PRIMARY_LEARNING_OBJECTIVE_ID</th>\n",
       "      <th>CONTENT_TYPE</th>\n",
       "      <th>DISPLAY_NAME</th>\n",
       "      <th>PUBLISHER_ID</th>\n",
       "      <th>PRICING_TYPE</th>\n",
       "      <th>GENRE</th>\n",
       "      <th>GAME_GENRE</th>\n",
       "      <th>NUMBER_OF_PAGES</th>\n",
       "      <th>ESTIMATED_CONTENT_DURATION</th>\n",
       "    </tr>\n",
       "  </thead>\n",
       "  <tbody>\n",
       "    <tr>\n",
       "      <th>0</th>\n",
       "      <td>4870693</td>\n",
       "      <td>0</td>\n",
       "      <td>2</td>\n",
       "      <td>50</td>\n",
       "      <td>327</td>\n",
       "      <td>2</td>\n",
       "      <td>33</td>\n",
       "      <td>EG</td>\n",
       "      <td>1601510403</td>\n",
       "      <td>27.0</td>\n",
       "      <td>33.0</td>\n",
       "      <td>Universal Children’s Rights</td>\n",
       "      <td>4.0</td>\n",
       "      <td>2.0</td>\n",
       "      <td>5.0</td>\n",
       "      <td>NaN</td>\n",
       "      <td>0.0</td>\n",
       "      <td>120.0</td>\n",
       "    </tr>\n",
       "    <tr>\n",
       "      <th>1</th>\n",
       "      <td>5226739</td>\n",
       "      <td>671052</td>\n",
       "      <td>9</td>\n",
       "      <td>91</td>\n",
       "      <td>486</td>\n",
       "      <td>1</td>\n",
       "      <td>366</td>\n",
       "      <td>EG</td>\n",
       "      <td>1601510415</td>\n",
       "      <td>30.0</td>\n",
       "      <td>33.0</td>\n",
       "      <td>Learn about Dinasours</td>\n",
       "      <td>4.0</td>\n",
       "      <td>1.0</td>\n",
       "      <td>14.0</td>\n",
       "      <td>NaN</td>\n",
       "      <td>0.0</td>\n",
       "      <td>360.0</td>\n",
       "    </tr>\n",
       "    <tr>\n",
       "      <th>2</th>\n",
       "      <td>5153110</td>\n",
       "      <td>0</td>\n",
       "      <td>7</td>\n",
       "      <td>64</td>\n",
       "      <td>296</td>\n",
       "      <td>2</td>\n",
       "      <td>38</td>\n",
       "      <td>SA</td>\n",
       "      <td>1601510420</td>\n",
       "      <td>16.0</td>\n",
       "      <td>33.0</td>\n",
       "      <td>Chococups with Lamsa's Kitchen video</td>\n",
       "      <td>4.0</td>\n",
       "      <td>2.0</td>\n",
       "      <td>18.0</td>\n",
       "      <td>NaN</td>\n",
       "      <td>0.0</td>\n",
       "      <td>350.0</td>\n",
       "    </tr>\n",
       "    <tr>\n",
       "      <th>3</th>\n",
       "      <td>5153110</td>\n",
       "      <td>0</td>\n",
       "      <td>7</td>\n",
       "      <td>64</td>\n",
       "      <td>296</td>\n",
       "      <td>2</td>\n",
       "      <td>0</td>\n",
       "      <td>SA</td>\n",
       "      <td>1601510421</td>\n",
       "      <td>16.0</td>\n",
       "      <td>33.0</td>\n",
       "      <td>Chococups with Lamsa's Kitchen video</td>\n",
       "      <td>4.0</td>\n",
       "      <td>2.0</td>\n",
       "      <td>18.0</td>\n",
       "      <td>NaN</td>\n",
       "      <td>0.0</td>\n",
       "      <td>350.0</td>\n",
       "    </tr>\n",
       "    <tr>\n",
       "      <th>4</th>\n",
       "      <td>4548275</td>\n",
       "      <td>0</td>\n",
       "      <td>8</td>\n",
       "      <td>79</td>\n",
       "      <td>529</td>\n",
       "      <td>2</td>\n",
       "      <td>85</td>\n",
       "      <td>SA</td>\n",
       "      <td>1601510423</td>\n",
       "      <td>29.0</td>\n",
       "      <td>33.0</td>\n",
       "      <td>Shapes with Fatima</td>\n",
       "      <td>4.0</td>\n",
       "      <td>2.0</td>\n",
       "      <td>19.0</td>\n",
       "      <td>NaN</td>\n",
       "      <td>0.0</td>\n",
       "      <td>300.0</td>\n",
       "    </tr>\n",
       "    <tr>\n",
       "      <th>...</th>\n",
       "      <td>...</td>\n",
       "      <td>...</td>\n",
       "      <td>...</td>\n",
       "      <td>...</td>\n",
       "      <td>...</td>\n",
       "      <td>...</td>\n",
       "      <td>...</td>\n",
       "      <td>...</td>\n",
       "      <td>...</td>\n",
       "      <td>...</td>\n",
       "      <td>...</td>\n",
       "      <td>...</td>\n",
       "      <td>...</td>\n",
       "      <td>...</td>\n",
       "      <td>...</td>\n",
       "      <td>...</td>\n",
       "      <td>...</td>\n",
       "      <td>...</td>\n",
       "    </tr>\n",
       "    <tr>\n",
       "      <th>14003034</th>\n",
       "      <td>5589107</td>\n",
       "      <td>975951</td>\n",
       "      <td>4</td>\n",
       "      <td>33</td>\n",
       "      <td>382</td>\n",
       "      <td>1</td>\n",
       "      <td>10</td>\n",
       "      <td>EG</td>\n",
       "      <td>1616848707</td>\n",
       "      <td>15.0</td>\n",
       "      <td>35.0</td>\n",
       "      <td>Unusual Jobs</td>\n",
       "      <td>4.0</td>\n",
       "      <td>1.0</td>\n",
       "      <td>7.0</td>\n",
       "      <td>Puzzle, RPG</td>\n",
       "      <td>0.0</td>\n",
       "      <td>900.0</td>\n",
       "    </tr>\n",
       "    <tr>\n",
       "      <th>14003035</th>\n",
       "      <td>5608351</td>\n",
       "      <td>0</td>\n",
       "      <td>7</td>\n",
       "      <td>64</td>\n",
       "      <td>297</td>\n",
       "      <td>2</td>\n",
       "      <td>0</td>\n",
       "      <td>SA</td>\n",
       "      <td>1616848711</td>\n",
       "      <td>16.0</td>\n",
       "      <td>35.0</td>\n",
       "      <td>Lamsa's Kitchen: Chococups game</td>\n",
       "      <td>4.0</td>\n",
       "      <td>2.0</td>\n",
       "      <td>18.0</td>\n",
       "      <td>RPG, Educational, Simulation</td>\n",
       "      <td>0.0</td>\n",
       "      <td>1200.0</td>\n",
       "    </tr>\n",
       "    <tr>\n",
       "      <th>14003036</th>\n",
       "      <td>3826546</td>\n",
       "      <td>132430</td>\n",
       "      <td>0</td>\n",
       "      <td>0</td>\n",
       "      <td>307</td>\n",
       "      <td>2</td>\n",
       "      <td>0</td>\n",
       "      <td>SA</td>\n",
       "      <td>1616848712</td>\n",
       "      <td>16.0</td>\n",
       "      <td>35.0</td>\n",
       "      <td>Lamsa's Kitchen: Oven-baked Bread</td>\n",
       "      <td>4.0</td>\n",
       "      <td>1.0</td>\n",
       "      <td>18.0</td>\n",
       "      <td>RPG, Educational, Simulation</td>\n",
       "      <td>0.0</td>\n",
       "      <td>1200.0</td>\n",
       "    </tr>\n",
       "    <tr>\n",
       "      <th>14003037</th>\n",
       "      <td>5608508</td>\n",
       "      <td>994698</td>\n",
       "      <td>4</td>\n",
       "      <td>62</td>\n",
       "      <td>454</td>\n",
       "      <td>2</td>\n",
       "      <td>427</td>\n",
       "      <td>SA</td>\n",
       "      <td>1616848713</td>\n",
       "      <td>4.0</td>\n",
       "      <td>35.0</td>\n",
       "      <td>Odd One Out: Shapes</td>\n",
       "      <td>4.0</td>\n",
       "      <td>1.0</td>\n",
       "      <td>19.0</td>\n",
       "      <td>Puzzle</td>\n",
       "      <td>0.0</td>\n",
       "      <td>600.0</td>\n",
       "    </tr>\n",
       "    <tr>\n",
       "      <th>14003038</th>\n",
       "      <td>5423392</td>\n",
       "      <td>815339</td>\n",
       "      <td>0</td>\n",
       "      <td>0</td>\n",
       "      <td>469</td>\n",
       "      <td>2</td>\n",
       "      <td>0</td>\n",
       "      <td>OM</td>\n",
       "      <td>1616848716</td>\n",
       "      <td>30.0</td>\n",
       "      <td>33.0</td>\n",
       "      <td>Story: \" the sheep doesn't want water \"</td>\n",
       "      <td>4.0</td>\n",
       "      <td>2.0</td>\n",
       "      <td>1.0</td>\n",
       "      <td>NaN</td>\n",
       "      <td>0.0</td>\n",
       "      <td>150.0</td>\n",
       "    </tr>\n",
       "  </tbody>\n",
       "</table>\n",
       "<p>14003039 rows × 18 columns</p>\n",
       "</div>"
      ],
      "text/plain": [
       "          USER_ID  KID_ID  CATEGORY_ID  SECTION_ID  ITEM_ID  USER_TYPE  \\\n",
       "0         4870693       0            2          50      327          2   \n",
       "1         5226739  671052            9          91      486          1   \n",
       "2         5153110       0            7          64      296          2   \n",
       "3         5153110       0            7          64      296          2   \n",
       "4         4548275       0            8          79      529          2   \n",
       "...           ...     ...          ...         ...      ...        ...   \n",
       "14003034  5589107  975951            4          33      382          1   \n",
       "14003035  5608351       0            7          64      297          2   \n",
       "14003036  3826546  132430            0           0      307          2   \n",
       "14003037  5608508  994698            4          62      454          2   \n",
       "14003038  5423392  815339            0           0      469          2   \n",
       "\n",
       "          TIME_SPEND COUNTRY   TIMESTAMP  PRIMARY_LEARNING_OBJECTIVE_ID  \\\n",
       "0                 33      EG  1601510403                           27.0   \n",
       "1                366      EG  1601510415                           30.0   \n",
       "2                 38      SA  1601510420                           16.0   \n",
       "3                  0      SA  1601510421                           16.0   \n",
       "4                 85      SA  1601510423                           29.0   \n",
       "...              ...     ...         ...                            ...   \n",
       "14003034          10      EG  1616848707                           15.0   \n",
       "14003035           0      SA  1616848711                           16.0   \n",
       "14003036           0      SA  1616848712                           16.0   \n",
       "14003037         427      SA  1616848713                            4.0   \n",
       "14003038           0      OM  1616848716                           30.0   \n",
       "\n",
       "          CONTENT_TYPE                             DISPLAY_NAME  PUBLISHER_ID  \\\n",
       "0                 33.0              Universal Children’s Rights           4.0   \n",
       "1                 33.0                    Learn about Dinasours           4.0   \n",
       "2                 33.0     Chococups with Lamsa's Kitchen video           4.0   \n",
       "3                 33.0     Chococups with Lamsa's Kitchen video           4.0   \n",
       "4                 33.0                       Shapes with Fatima           4.0   \n",
       "...                ...                                      ...           ...   \n",
       "14003034          35.0                             Unusual Jobs           4.0   \n",
       "14003035          35.0          Lamsa's Kitchen: Chococups game           4.0   \n",
       "14003036          35.0        Lamsa's Kitchen: Oven-baked Bread           4.0   \n",
       "14003037          35.0                      Odd One Out: Shapes           4.0   \n",
       "14003038          33.0  Story: \" the sheep doesn't want water \"           4.0   \n",
       "\n",
       "          PRICING_TYPE  GENRE                    GAME_GENRE  NUMBER_OF_PAGES  \\\n",
       "0                  2.0    5.0                           NaN              0.0   \n",
       "1                  1.0   14.0                           NaN              0.0   \n",
       "2                  2.0   18.0                           NaN              0.0   \n",
       "3                  2.0   18.0                           NaN              0.0   \n",
       "4                  2.0   19.0                           NaN              0.0   \n",
       "...                ...    ...                           ...              ...   \n",
       "14003034           1.0    7.0                   Puzzle, RPG              0.0   \n",
       "14003035           2.0   18.0  RPG, Educational, Simulation              0.0   \n",
       "14003036           1.0   18.0  RPG, Educational, Simulation              0.0   \n",
       "14003037           1.0   19.0                        Puzzle              0.0   \n",
       "14003038           2.0    1.0                           NaN              0.0   \n",
       "\n",
       "          ESTIMATED_CONTENT_DURATION  \n",
       "0                              120.0  \n",
       "1                              360.0  \n",
       "2                              350.0  \n",
       "3                              350.0  \n",
       "4                              300.0  \n",
       "...                              ...  \n",
       "14003034                       900.0  \n",
       "14003035                      1200.0  \n",
       "14003036                      1200.0  \n",
       "14003037                       600.0  \n",
       "14003038                       150.0  \n",
       "\n",
       "[14003039 rows x 18 columns]"
      ]
     },
     "execution_count": 35,
     "metadata": {},
     "output_type": "execute_result"
    }
   ],
   "source": [
    "merged_df"
   ]
  },
  {
   "cell_type": "code",
   "execution_count": 36,
   "metadata": {},
   "outputs": [
    {
     "data": {
      "text/plain": [
       "USER_ID                                0\n",
       "KID_ID                                 0\n",
       "CATEGORY_ID                            0\n",
       "SECTION_ID                             0\n",
       "ITEM_ID                                0\n",
       "USER_TYPE                              0\n",
       "TIME_SPEND                             0\n",
       "COUNTRY                             1460\n",
       "TIMESTAMP                              0\n",
       "PRIMARY_LEARNING_OBJECTIVE_ID     100066\n",
       "CONTENT_TYPE                      100066\n",
       "DISPLAY_NAME                      100066\n",
       "PUBLISHER_ID                      100066\n",
       "PRICING_TYPE                      100066\n",
       "GENRE                             100066\n",
       "GAME_GENRE                       5925437\n",
       "NUMBER_OF_PAGES                   100066\n",
       "ESTIMATED_CONTENT_DURATION        100066\n",
       "dtype: int64"
      ]
     },
     "execution_count": 36,
     "metadata": {},
     "output_type": "execute_result"
    }
   ],
   "source": [
    "merged_df.isnull().sum()"
   ]
  },
  {
   "cell_type": "code",
   "execution_count": 37,
   "metadata": {},
   "outputs": [
    {
     "data": {
      "text/plain": [
       "1176695"
      ]
     },
     "execution_count": 37,
     "metadata": {},
     "output_type": "execute_result"
    }
   ],
   "source": [
    "merged_df.duplicated().sum()"
   ]
  },
  {
   "cell_type": "code",
   "execution_count": 38,
   "metadata": {},
   "outputs": [
    {
     "name": "stdout",
     "output_type": "stream",
     "text": [
      "<class 'pandas.core.frame.DataFrame'>\n",
      "Int64Index: 14003039 entries, 0 to 14003038\n",
      "Data columns (total 18 columns):\n",
      " #   Column                         Dtype  \n",
      "---  ------                         -----  \n",
      " 0   USER_ID                        int64  \n",
      " 1   KID_ID                         int64  \n",
      " 2   CATEGORY_ID                    int64  \n",
      " 3   SECTION_ID                     int64  \n",
      " 4   ITEM_ID                        int64  \n",
      " 5   USER_TYPE                      int64  \n",
      " 6   TIME_SPEND                     int64  \n",
      " 7   COUNTRY                        object \n",
      " 8   TIMESTAMP                      int64  \n",
      " 9   PRIMARY_LEARNING_OBJECTIVE_ID  float64\n",
      " 10  CONTENT_TYPE                   float64\n",
      " 11  DISPLAY_NAME                   object \n",
      " 12  PUBLISHER_ID                   float64\n",
      " 13  PRICING_TYPE                   float64\n",
      " 14  GENRE                          float64\n",
      " 15  GAME_GENRE                     object \n",
      " 16  NUMBER_OF_PAGES                float64\n",
      " 17  ESTIMATED_CONTENT_DURATION     float64\n",
      "dtypes: float64(7), int64(8), object(3)\n",
      "memory usage: 2.0+ GB\n"
     ]
    }
   ],
   "source": [
    "merged_df.info()"
   ]
  },
  {
   "cell_type": "code",
   "execution_count": 39,
   "metadata": {},
   "outputs": [
    {
     "data": {
      "text/html": [
       "<div>\n",
       "<style scoped>\n",
       "    .dataframe tbody tr th:only-of-type {\n",
       "        vertical-align: middle;\n",
       "    }\n",
       "\n",
       "    .dataframe tbody tr th {\n",
       "        vertical-align: top;\n",
       "    }\n",
       "\n",
       "    .dataframe thead th {\n",
       "        text-align: right;\n",
       "    }\n",
       "</style>\n",
       "<table border=\"1\" class=\"dataframe\">\n",
       "  <thead>\n",
       "    <tr style=\"text-align: right;\">\n",
       "      <th></th>\n",
       "      <th>USER_ID</th>\n",
       "      <th>KID_ID</th>\n",
       "      <th>CATEGORY_ID</th>\n",
       "      <th>SECTION_ID</th>\n",
       "      <th>ITEM_ID</th>\n",
       "      <th>USER_TYPE</th>\n",
       "      <th>TIME_SPEND</th>\n",
       "      <th>COUNTRY</th>\n",
       "      <th>TIMESTAMP</th>\n",
       "      <th>PRIMARY_LEARNING_OBJECTIVE_ID</th>\n",
       "      <th>CONTENT_TYPE</th>\n",
       "      <th>DISPLAY_NAME</th>\n",
       "      <th>PUBLISHER_ID</th>\n",
       "      <th>PRICING_TYPE</th>\n",
       "      <th>GENRE</th>\n",
       "      <th>GAME_GENRE</th>\n",
       "      <th>NUMBER_OF_PAGES</th>\n",
       "      <th>ESTIMATED_CONTENT_DURATION</th>\n",
       "    </tr>\n",
       "  </thead>\n",
       "  <tbody>\n",
       "    <tr>\n",
       "      <th>0</th>\n",
       "      <td>4870693</td>\n",
       "      <td>0</td>\n",
       "      <td>2</td>\n",
       "      <td>50</td>\n",
       "      <td>327</td>\n",
       "      <td>2</td>\n",
       "      <td>33</td>\n",
       "      <td>EG</td>\n",
       "      <td>1601510403</td>\n",
       "      <td>27.0</td>\n",
       "      <td>33.0</td>\n",
       "      <td>Universal Children’s Rights</td>\n",
       "      <td>4.0</td>\n",
       "      <td>2.0</td>\n",
       "      <td>5.0</td>\n",
       "      <td>NaN</td>\n",
       "      <td>0.0</td>\n",
       "      <td>120.0</td>\n",
       "    </tr>\n",
       "    <tr>\n",
       "      <th>1</th>\n",
       "      <td>5226739</td>\n",
       "      <td>671052</td>\n",
       "      <td>9</td>\n",
       "      <td>91</td>\n",
       "      <td>486</td>\n",
       "      <td>1</td>\n",
       "      <td>366</td>\n",
       "      <td>EG</td>\n",
       "      <td>1601510415</td>\n",
       "      <td>30.0</td>\n",
       "      <td>33.0</td>\n",
       "      <td>Learn about Dinasours</td>\n",
       "      <td>4.0</td>\n",
       "      <td>1.0</td>\n",
       "      <td>14.0</td>\n",
       "      <td>NaN</td>\n",
       "      <td>0.0</td>\n",
       "      <td>360.0</td>\n",
       "    </tr>\n",
       "    <tr>\n",
       "      <th>2</th>\n",
       "      <td>5153110</td>\n",
       "      <td>0</td>\n",
       "      <td>7</td>\n",
       "      <td>64</td>\n",
       "      <td>296</td>\n",
       "      <td>2</td>\n",
       "      <td>38</td>\n",
       "      <td>SA</td>\n",
       "      <td>1601510420</td>\n",
       "      <td>16.0</td>\n",
       "      <td>33.0</td>\n",
       "      <td>Chococups with Lamsa's Kitchen video</td>\n",
       "      <td>4.0</td>\n",
       "      <td>2.0</td>\n",
       "      <td>18.0</td>\n",
       "      <td>NaN</td>\n",
       "      <td>0.0</td>\n",
       "      <td>350.0</td>\n",
       "    </tr>\n",
       "    <tr>\n",
       "      <th>3</th>\n",
       "      <td>5153110</td>\n",
       "      <td>0</td>\n",
       "      <td>7</td>\n",
       "      <td>64</td>\n",
       "      <td>296</td>\n",
       "      <td>2</td>\n",
       "      <td>0</td>\n",
       "      <td>SA</td>\n",
       "      <td>1601510421</td>\n",
       "      <td>16.0</td>\n",
       "      <td>33.0</td>\n",
       "      <td>Chococups with Lamsa's Kitchen video</td>\n",
       "      <td>4.0</td>\n",
       "      <td>2.0</td>\n",
       "      <td>18.0</td>\n",
       "      <td>NaN</td>\n",
       "      <td>0.0</td>\n",
       "      <td>350.0</td>\n",
       "    </tr>\n",
       "    <tr>\n",
       "      <th>4</th>\n",
       "      <td>4548275</td>\n",
       "      <td>0</td>\n",
       "      <td>8</td>\n",
       "      <td>79</td>\n",
       "      <td>529</td>\n",
       "      <td>2</td>\n",
       "      <td>85</td>\n",
       "      <td>SA</td>\n",
       "      <td>1601510423</td>\n",
       "      <td>29.0</td>\n",
       "      <td>33.0</td>\n",
       "      <td>Shapes with Fatima</td>\n",
       "      <td>4.0</td>\n",
       "      <td>2.0</td>\n",
       "      <td>19.0</td>\n",
       "      <td>NaN</td>\n",
       "      <td>0.0</td>\n",
       "      <td>300.0</td>\n",
       "    </tr>\n",
       "    <tr>\n",
       "      <th>...</th>\n",
       "      <td>...</td>\n",
       "      <td>...</td>\n",
       "      <td>...</td>\n",
       "      <td>...</td>\n",
       "      <td>...</td>\n",
       "      <td>...</td>\n",
       "      <td>...</td>\n",
       "      <td>...</td>\n",
       "      <td>...</td>\n",
       "      <td>...</td>\n",
       "      <td>...</td>\n",
       "      <td>...</td>\n",
       "      <td>...</td>\n",
       "      <td>...</td>\n",
       "      <td>...</td>\n",
       "      <td>...</td>\n",
       "      <td>...</td>\n",
       "      <td>...</td>\n",
       "    </tr>\n",
       "    <tr>\n",
       "      <th>14003034</th>\n",
       "      <td>5589107</td>\n",
       "      <td>975951</td>\n",
       "      <td>4</td>\n",
       "      <td>33</td>\n",
       "      <td>382</td>\n",
       "      <td>1</td>\n",
       "      <td>10</td>\n",
       "      <td>EG</td>\n",
       "      <td>1616848707</td>\n",
       "      <td>15.0</td>\n",
       "      <td>35.0</td>\n",
       "      <td>Unusual Jobs</td>\n",
       "      <td>4.0</td>\n",
       "      <td>1.0</td>\n",
       "      <td>7.0</td>\n",
       "      <td>Puzzle, RPG</td>\n",
       "      <td>0.0</td>\n",
       "      <td>900.0</td>\n",
       "    </tr>\n",
       "    <tr>\n",
       "      <th>14003035</th>\n",
       "      <td>5608351</td>\n",
       "      <td>0</td>\n",
       "      <td>7</td>\n",
       "      <td>64</td>\n",
       "      <td>297</td>\n",
       "      <td>2</td>\n",
       "      <td>0</td>\n",
       "      <td>SA</td>\n",
       "      <td>1616848711</td>\n",
       "      <td>16.0</td>\n",
       "      <td>35.0</td>\n",
       "      <td>Lamsa's Kitchen: Chococups game</td>\n",
       "      <td>4.0</td>\n",
       "      <td>2.0</td>\n",
       "      <td>18.0</td>\n",
       "      <td>RPG, Educational, Simulation</td>\n",
       "      <td>0.0</td>\n",
       "      <td>1200.0</td>\n",
       "    </tr>\n",
       "    <tr>\n",
       "      <th>14003036</th>\n",
       "      <td>3826546</td>\n",
       "      <td>132430</td>\n",
       "      <td>0</td>\n",
       "      <td>0</td>\n",
       "      <td>307</td>\n",
       "      <td>2</td>\n",
       "      <td>0</td>\n",
       "      <td>SA</td>\n",
       "      <td>1616848712</td>\n",
       "      <td>16.0</td>\n",
       "      <td>35.0</td>\n",
       "      <td>Lamsa's Kitchen: Oven-baked Bread</td>\n",
       "      <td>4.0</td>\n",
       "      <td>1.0</td>\n",
       "      <td>18.0</td>\n",
       "      <td>RPG, Educational, Simulation</td>\n",
       "      <td>0.0</td>\n",
       "      <td>1200.0</td>\n",
       "    </tr>\n",
       "    <tr>\n",
       "      <th>14003037</th>\n",
       "      <td>5608508</td>\n",
       "      <td>994698</td>\n",
       "      <td>4</td>\n",
       "      <td>62</td>\n",
       "      <td>454</td>\n",
       "      <td>2</td>\n",
       "      <td>427</td>\n",
       "      <td>SA</td>\n",
       "      <td>1616848713</td>\n",
       "      <td>4.0</td>\n",
       "      <td>35.0</td>\n",
       "      <td>Odd One Out: Shapes</td>\n",
       "      <td>4.0</td>\n",
       "      <td>1.0</td>\n",
       "      <td>19.0</td>\n",
       "      <td>Puzzle</td>\n",
       "      <td>0.0</td>\n",
       "      <td>600.0</td>\n",
       "    </tr>\n",
       "    <tr>\n",
       "      <th>14003038</th>\n",
       "      <td>5423392</td>\n",
       "      <td>815339</td>\n",
       "      <td>0</td>\n",
       "      <td>0</td>\n",
       "      <td>469</td>\n",
       "      <td>2</td>\n",
       "      <td>0</td>\n",
       "      <td>OM</td>\n",
       "      <td>1616848716</td>\n",
       "      <td>30.0</td>\n",
       "      <td>33.0</td>\n",
       "      <td>Story: \" the sheep doesn't want water \"</td>\n",
       "      <td>4.0</td>\n",
       "      <td>2.0</td>\n",
       "      <td>1.0</td>\n",
       "      <td>NaN</td>\n",
       "      <td>0.0</td>\n",
       "      <td>150.0</td>\n",
       "    </tr>\n",
       "  </tbody>\n",
       "</table>\n",
       "<p>14003039 rows × 18 columns</p>\n",
       "</div>"
      ],
      "text/plain": [
       "          USER_ID  KID_ID  CATEGORY_ID  SECTION_ID  ITEM_ID  USER_TYPE  \\\n",
       "0         4870693       0            2          50      327          2   \n",
       "1         5226739  671052            9          91      486          1   \n",
       "2         5153110       0            7          64      296          2   \n",
       "3         5153110       0            7          64      296          2   \n",
       "4         4548275       0            8          79      529          2   \n",
       "...           ...     ...          ...         ...      ...        ...   \n",
       "14003034  5589107  975951            4          33      382          1   \n",
       "14003035  5608351       0            7          64      297          2   \n",
       "14003036  3826546  132430            0           0      307          2   \n",
       "14003037  5608508  994698            4          62      454          2   \n",
       "14003038  5423392  815339            0           0      469          2   \n",
       "\n",
       "          TIME_SPEND COUNTRY   TIMESTAMP  PRIMARY_LEARNING_OBJECTIVE_ID  \\\n",
       "0                 33      EG  1601510403                           27.0   \n",
       "1                366      EG  1601510415                           30.0   \n",
       "2                 38      SA  1601510420                           16.0   \n",
       "3                  0      SA  1601510421                           16.0   \n",
       "4                 85      SA  1601510423                           29.0   \n",
       "...              ...     ...         ...                            ...   \n",
       "14003034          10      EG  1616848707                           15.0   \n",
       "14003035           0      SA  1616848711                           16.0   \n",
       "14003036           0      SA  1616848712                           16.0   \n",
       "14003037         427      SA  1616848713                            4.0   \n",
       "14003038           0      OM  1616848716                           30.0   \n",
       "\n",
       "          CONTENT_TYPE                             DISPLAY_NAME  PUBLISHER_ID  \\\n",
       "0                 33.0              Universal Children’s Rights           4.0   \n",
       "1                 33.0                    Learn about Dinasours           4.0   \n",
       "2                 33.0     Chococups with Lamsa's Kitchen video           4.0   \n",
       "3                 33.0     Chococups with Lamsa's Kitchen video           4.0   \n",
       "4                 33.0                       Shapes with Fatima           4.0   \n",
       "...                ...                                      ...           ...   \n",
       "14003034          35.0                             Unusual Jobs           4.0   \n",
       "14003035          35.0          Lamsa's Kitchen: Chococups game           4.0   \n",
       "14003036          35.0        Lamsa's Kitchen: Oven-baked Bread           4.0   \n",
       "14003037          35.0                      Odd One Out: Shapes           4.0   \n",
       "14003038          33.0  Story: \" the sheep doesn't want water \"           4.0   \n",
       "\n",
       "          PRICING_TYPE  GENRE                    GAME_GENRE  NUMBER_OF_PAGES  \\\n",
       "0                  2.0    5.0                           NaN              0.0   \n",
       "1                  1.0   14.0                           NaN              0.0   \n",
       "2                  2.0   18.0                           NaN              0.0   \n",
       "3                  2.0   18.0                           NaN              0.0   \n",
       "4                  2.0   19.0                           NaN              0.0   \n",
       "...                ...    ...                           ...              ...   \n",
       "14003034           1.0    7.0                   Puzzle, RPG              0.0   \n",
       "14003035           2.0   18.0  RPG, Educational, Simulation              0.0   \n",
       "14003036           1.0   18.0  RPG, Educational, Simulation              0.0   \n",
       "14003037           1.0   19.0                        Puzzle              0.0   \n",
       "14003038           2.0    1.0                           NaN              0.0   \n",
       "\n",
       "          ESTIMATED_CONTENT_DURATION  \n",
       "0                              120.0  \n",
       "1                              360.0  \n",
       "2                              350.0  \n",
       "3                              350.0  \n",
       "4                              300.0  \n",
       "...                              ...  \n",
       "14003034                       900.0  \n",
       "14003035                      1200.0  \n",
       "14003036                      1200.0  \n",
       "14003037                       600.0  \n",
       "14003038                       150.0  \n",
       "\n",
       "[14003039 rows x 18 columns]"
      ]
     },
     "execution_count": 39,
     "metadata": {},
     "output_type": "execute_result"
    }
   ],
   "source": [
    "merged_df"
   ]
  },
  {
   "cell_type": "code",
   "execution_count": 75,
   "metadata": {},
   "outputs": [],
   "source": [
    "pca_df = merged_df.drop([\"USER_ID\",\"CATEGORY_ID\",\"SECTION_ID\",\"KID_ID\",\"ITEM_ID\",\"COUNTRY\",\"DISPLAY_NAME\",\"GAME_GENRE\"], axis =1)"
   ]
  },
  {
   "cell_type": "code",
   "execution_count": 76,
   "metadata": {},
   "outputs": [
    {
     "data": {
      "text/html": [
       "<div>\n",
       "<style scoped>\n",
       "    .dataframe tbody tr th:only-of-type {\n",
       "        vertical-align: middle;\n",
       "    }\n",
       "\n",
       "    .dataframe tbody tr th {\n",
       "        vertical-align: top;\n",
       "    }\n",
       "\n",
       "    .dataframe thead th {\n",
       "        text-align: right;\n",
       "    }\n",
       "</style>\n",
       "<table border=\"1\" class=\"dataframe\">\n",
       "  <thead>\n",
       "    <tr style=\"text-align: right;\">\n",
       "      <th></th>\n",
       "      <th>USER_TYPE</th>\n",
       "      <th>TIME_SPEND</th>\n",
       "      <th>TIMESTAMP</th>\n",
       "      <th>PRIMARY_LEARNING_OBJECTIVE_ID</th>\n",
       "      <th>CONTENT_TYPE</th>\n",
       "      <th>PUBLISHER_ID</th>\n",
       "      <th>PRICING_TYPE</th>\n",
       "      <th>GENRE</th>\n",
       "      <th>NUMBER_OF_PAGES</th>\n",
       "      <th>ESTIMATED_CONTENT_DURATION</th>\n",
       "    </tr>\n",
       "  </thead>\n",
       "  <tbody>\n",
       "    <tr>\n",
       "      <th>0</th>\n",
       "      <td>2</td>\n",
       "      <td>33</td>\n",
       "      <td>1601510403</td>\n",
       "      <td>27.0</td>\n",
       "      <td>33.0</td>\n",
       "      <td>4.0</td>\n",
       "      <td>2.0</td>\n",
       "      <td>5.0</td>\n",
       "      <td>0.0</td>\n",
       "      <td>120.0</td>\n",
       "    </tr>\n",
       "    <tr>\n",
       "      <th>1</th>\n",
       "      <td>1</td>\n",
       "      <td>366</td>\n",
       "      <td>1601510415</td>\n",
       "      <td>30.0</td>\n",
       "      <td>33.0</td>\n",
       "      <td>4.0</td>\n",
       "      <td>1.0</td>\n",
       "      <td>14.0</td>\n",
       "      <td>0.0</td>\n",
       "      <td>360.0</td>\n",
       "    </tr>\n",
       "    <tr>\n",
       "      <th>2</th>\n",
       "      <td>2</td>\n",
       "      <td>38</td>\n",
       "      <td>1601510420</td>\n",
       "      <td>16.0</td>\n",
       "      <td>33.0</td>\n",
       "      <td>4.0</td>\n",
       "      <td>2.0</td>\n",
       "      <td>18.0</td>\n",
       "      <td>0.0</td>\n",
       "      <td>350.0</td>\n",
       "    </tr>\n",
       "    <tr>\n",
       "      <th>3</th>\n",
       "      <td>2</td>\n",
       "      <td>0</td>\n",
       "      <td>1601510421</td>\n",
       "      <td>16.0</td>\n",
       "      <td>33.0</td>\n",
       "      <td>4.0</td>\n",
       "      <td>2.0</td>\n",
       "      <td>18.0</td>\n",
       "      <td>0.0</td>\n",
       "      <td>350.0</td>\n",
       "    </tr>\n",
       "    <tr>\n",
       "      <th>4</th>\n",
       "      <td>2</td>\n",
       "      <td>85</td>\n",
       "      <td>1601510423</td>\n",
       "      <td>29.0</td>\n",
       "      <td>33.0</td>\n",
       "      <td>4.0</td>\n",
       "      <td>2.0</td>\n",
       "      <td>19.0</td>\n",
       "      <td>0.0</td>\n",
       "      <td>300.0</td>\n",
       "    </tr>\n",
       "    <tr>\n",
       "      <th>...</th>\n",
       "      <td>...</td>\n",
       "      <td>...</td>\n",
       "      <td>...</td>\n",
       "      <td>...</td>\n",
       "      <td>...</td>\n",
       "      <td>...</td>\n",
       "      <td>...</td>\n",
       "      <td>...</td>\n",
       "      <td>...</td>\n",
       "      <td>...</td>\n",
       "    </tr>\n",
       "    <tr>\n",
       "      <th>14003034</th>\n",
       "      <td>1</td>\n",
       "      <td>10</td>\n",
       "      <td>1616848707</td>\n",
       "      <td>15.0</td>\n",
       "      <td>35.0</td>\n",
       "      <td>4.0</td>\n",
       "      <td>1.0</td>\n",
       "      <td>7.0</td>\n",
       "      <td>0.0</td>\n",
       "      <td>900.0</td>\n",
       "    </tr>\n",
       "    <tr>\n",
       "      <th>14003035</th>\n",
       "      <td>2</td>\n",
       "      <td>0</td>\n",
       "      <td>1616848711</td>\n",
       "      <td>16.0</td>\n",
       "      <td>35.0</td>\n",
       "      <td>4.0</td>\n",
       "      <td>2.0</td>\n",
       "      <td>18.0</td>\n",
       "      <td>0.0</td>\n",
       "      <td>1200.0</td>\n",
       "    </tr>\n",
       "    <tr>\n",
       "      <th>14003036</th>\n",
       "      <td>2</td>\n",
       "      <td>0</td>\n",
       "      <td>1616848712</td>\n",
       "      <td>16.0</td>\n",
       "      <td>35.0</td>\n",
       "      <td>4.0</td>\n",
       "      <td>1.0</td>\n",
       "      <td>18.0</td>\n",
       "      <td>0.0</td>\n",
       "      <td>1200.0</td>\n",
       "    </tr>\n",
       "    <tr>\n",
       "      <th>14003037</th>\n",
       "      <td>2</td>\n",
       "      <td>427</td>\n",
       "      <td>1616848713</td>\n",
       "      <td>4.0</td>\n",
       "      <td>35.0</td>\n",
       "      <td>4.0</td>\n",
       "      <td>1.0</td>\n",
       "      <td>19.0</td>\n",
       "      <td>0.0</td>\n",
       "      <td>600.0</td>\n",
       "    </tr>\n",
       "    <tr>\n",
       "      <th>14003038</th>\n",
       "      <td>2</td>\n",
       "      <td>0</td>\n",
       "      <td>1616848716</td>\n",
       "      <td>30.0</td>\n",
       "      <td>33.0</td>\n",
       "      <td>4.0</td>\n",
       "      <td>2.0</td>\n",
       "      <td>1.0</td>\n",
       "      <td>0.0</td>\n",
       "      <td>150.0</td>\n",
       "    </tr>\n",
       "  </tbody>\n",
       "</table>\n",
       "<p>14003039 rows × 10 columns</p>\n",
       "</div>"
      ],
      "text/plain": [
       "          USER_TYPE  TIME_SPEND   TIMESTAMP  PRIMARY_LEARNING_OBJECTIVE_ID  \\\n",
       "0                 2          33  1601510403                           27.0   \n",
       "1                 1         366  1601510415                           30.0   \n",
       "2                 2          38  1601510420                           16.0   \n",
       "3                 2           0  1601510421                           16.0   \n",
       "4                 2          85  1601510423                           29.0   \n",
       "...             ...         ...         ...                            ...   \n",
       "14003034          1          10  1616848707                           15.0   \n",
       "14003035          2           0  1616848711                           16.0   \n",
       "14003036          2           0  1616848712                           16.0   \n",
       "14003037          2         427  1616848713                            4.0   \n",
       "14003038          2           0  1616848716                           30.0   \n",
       "\n",
       "          CONTENT_TYPE  PUBLISHER_ID  PRICING_TYPE  GENRE  NUMBER_OF_PAGES  \\\n",
       "0                 33.0           4.0           2.0    5.0              0.0   \n",
       "1                 33.0           4.0           1.0   14.0              0.0   \n",
       "2                 33.0           4.0           2.0   18.0              0.0   \n",
       "3                 33.0           4.0           2.0   18.0              0.0   \n",
       "4                 33.0           4.0           2.0   19.0              0.0   \n",
       "...                ...           ...           ...    ...              ...   \n",
       "14003034          35.0           4.0           1.0    7.0              0.0   \n",
       "14003035          35.0           4.0           2.0   18.0              0.0   \n",
       "14003036          35.0           4.0           1.0   18.0              0.0   \n",
       "14003037          35.0           4.0           1.0   19.0              0.0   \n",
       "14003038          33.0           4.0           2.0    1.0              0.0   \n",
       "\n",
       "          ESTIMATED_CONTENT_DURATION  \n",
       "0                              120.0  \n",
       "1                              360.0  \n",
       "2                              350.0  \n",
       "3                              350.0  \n",
       "4                              300.0  \n",
       "...                              ...  \n",
       "14003034                       900.0  \n",
       "14003035                      1200.0  \n",
       "14003036                      1200.0  \n",
       "14003037                       600.0  \n",
       "14003038                       150.0  \n",
       "\n",
       "[14003039 rows x 10 columns]"
      ]
     },
     "execution_count": 76,
     "metadata": {},
     "output_type": "execute_result"
    }
   ],
   "source": [
    "pca_df"
   ]
  },
  {
   "cell_type": "code",
   "execution_count": 78,
   "metadata": {},
   "outputs": [
    {
     "name": "stdout",
     "output_type": "stream",
     "text": [
      "<class 'pandas.core.frame.DataFrame'>\n",
      "Int64Index: 14003039 entries, 0 to 14003038\n",
      "Data columns (total 10 columns):\n",
      " #   Column                         Dtype  \n",
      "---  ------                         -----  \n",
      " 0   USER_TYPE                      int64  \n",
      " 1   TIME_SPEND                     int64  \n",
      " 2   TIMESTAMP                      int64  \n",
      " 3   PRIMARY_LEARNING_OBJECTIVE_ID  float64\n",
      " 4   CONTENT_TYPE                   float64\n",
      " 5   PUBLISHER_ID                   float64\n",
      " 6   PRICING_TYPE                   float64\n",
      " 7   GENRE                          float64\n",
      " 8   NUMBER_OF_PAGES                float64\n",
      " 9   ESTIMATED_CONTENT_DURATION     float64\n",
      "dtypes: float64(7), int64(3)\n",
      "memory usage: 1.8 GB\n"
     ]
    }
   ],
   "source": [
    "pca_df.info()"
   ]
  },
  {
   "cell_type": "code",
   "execution_count": 79,
   "metadata": {},
   "outputs": [
    {
     "data": {
      "text/plain": [
       "USER_TYPE                             0\n",
       "TIME_SPEND                            0\n",
       "TIMESTAMP                             0\n",
       "PRIMARY_LEARNING_OBJECTIVE_ID    100066\n",
       "CONTENT_TYPE                     100066\n",
       "PUBLISHER_ID                     100066\n",
       "PRICING_TYPE                     100066\n",
       "GENRE                            100066\n",
       "NUMBER_OF_PAGES                  100066\n",
       "ESTIMATED_CONTENT_DURATION       100066\n",
       "dtype: int64"
      ]
     },
     "execution_count": 79,
     "metadata": {},
     "output_type": "execute_result"
    }
   ],
   "source": [
    "pca_df.isnull().sum()"
   ]
  },
  {
   "cell_type": "code",
   "execution_count": 80,
   "metadata": {},
   "outputs": [],
   "source": [
    "pca_df = pca_df.fillna(0.0)"
   ]
  },
  {
   "cell_type": "code",
   "execution_count": 81,
   "metadata": {},
   "outputs": [
    {
     "data": {
      "text/plain": [
       "USER_TYPE                        0\n",
       "TIME_SPEND                       0\n",
       "TIMESTAMP                        0\n",
       "PRIMARY_LEARNING_OBJECTIVE_ID    0\n",
       "CONTENT_TYPE                     0\n",
       "PUBLISHER_ID                     0\n",
       "PRICING_TYPE                     0\n",
       "GENRE                            0\n",
       "NUMBER_OF_PAGES                  0\n",
       "ESTIMATED_CONTENT_DURATION       0\n",
       "dtype: int64"
      ]
     },
     "execution_count": 81,
     "metadata": {},
     "output_type": "execute_result"
    }
   ],
   "source": [
    "pca_df.isnull().sum()"
   ]
  },
  {
   "cell_type": "code",
   "execution_count": 40,
   "metadata": {},
   "outputs": [
    {
     "data": {
      "text/html": [
       "<div>\n",
       "<style scoped>\n",
       "    .dataframe tbody tr th:only-of-type {\n",
       "        vertical-align: middle;\n",
       "    }\n",
       "\n",
       "    .dataframe tbody tr th {\n",
       "        vertical-align: top;\n",
       "    }\n",
       "\n",
       "    .dataframe thead th {\n",
       "        text-align: right;\n",
       "    }\n",
       "</style>\n",
       "<table border=\"1\" class=\"dataframe\">\n",
       "  <thead>\n",
       "    <tr style=\"text-align: right;\">\n",
       "      <th></th>\n",
       "      <th>USER_ID</th>\n",
       "      <th>KID_ID</th>\n",
       "      <th>CATEGORY_ID</th>\n",
       "      <th>SECTION_ID</th>\n",
       "      <th>ITEM_ID</th>\n",
       "      <th>USER_TYPE</th>\n",
       "      <th>TIME_SPEND</th>\n",
       "      <th>COUNTRY</th>\n",
       "      <th>TIMESTAMP</th>\n",
       "      <th>PRIMARY_LEARNING_OBJECTIVE_ID</th>\n",
       "      <th>CONTENT_TYPE</th>\n",
       "      <th>DISPLAY_NAME</th>\n",
       "      <th>PUBLISHER_ID</th>\n",
       "      <th>PRICING_TYPE</th>\n",
       "      <th>GENRE</th>\n",
       "      <th>GAME_GENRE</th>\n",
       "      <th>NUMBER_OF_PAGES</th>\n",
       "      <th>ESTIMATED_CONTENT_DURATION</th>\n",
       "    </tr>\n",
       "  </thead>\n",
       "  <tbody>\n",
       "    <tr>\n",
       "      <th>418</th>\n",
       "      <td>4616530</td>\n",
       "      <td>0</td>\n",
       "      <td>0</td>\n",
       "      <td>0</td>\n",
       "      <td>450</td>\n",
       "      <td>2</td>\n",
       "      <td>56</td>\n",
       "      <td>SA</td>\n",
       "      <td>1601511965</td>\n",
       "      <td>NaN</td>\n",
       "      <td>NaN</td>\n",
       "      <td>NaN</td>\n",
       "      <td>NaN</td>\n",
       "      <td>NaN</td>\n",
       "      <td>NaN</td>\n",
       "      <td>NaN</td>\n",
       "      <td>NaN</td>\n",
       "      <td>NaN</td>\n",
       "    </tr>\n",
       "    <tr>\n",
       "      <th>421</th>\n",
       "      <td>4616530</td>\n",
       "      <td>0</td>\n",
       "      <td>0</td>\n",
       "      <td>0</td>\n",
       "      <td>450</td>\n",
       "      <td>2</td>\n",
       "      <td>10</td>\n",
       "      <td>SA</td>\n",
       "      <td>1601511976</td>\n",
       "      <td>NaN</td>\n",
       "      <td>NaN</td>\n",
       "      <td>NaN</td>\n",
       "      <td>NaN</td>\n",
       "      <td>NaN</td>\n",
       "      <td>NaN</td>\n",
       "      <td>NaN</td>\n",
       "      <td>NaN</td>\n",
       "      <td>NaN</td>\n",
       "    </tr>\n",
       "    <tr>\n",
       "      <th>423</th>\n",
       "      <td>4616530</td>\n",
       "      <td>0</td>\n",
       "      <td>0</td>\n",
       "      <td>0</td>\n",
       "      <td>450</td>\n",
       "      <td>2</td>\n",
       "      <td>2</td>\n",
       "      <td>SA</td>\n",
       "      <td>1601511979</td>\n",
       "      <td>NaN</td>\n",
       "      <td>NaN</td>\n",
       "      <td>NaN</td>\n",
       "      <td>NaN</td>\n",
       "      <td>NaN</td>\n",
       "      <td>NaN</td>\n",
       "      <td>NaN</td>\n",
       "      <td>NaN</td>\n",
       "      <td>NaN</td>\n",
       "    </tr>\n",
       "    <tr>\n",
       "      <th>428</th>\n",
       "      <td>4616530</td>\n",
       "      <td>0</td>\n",
       "      <td>0</td>\n",
       "      <td>0</td>\n",
       "      <td>450</td>\n",
       "      <td>2</td>\n",
       "      <td>13</td>\n",
       "      <td>SA</td>\n",
       "      <td>1601511992</td>\n",
       "      <td>NaN</td>\n",
       "      <td>NaN</td>\n",
       "      <td>NaN</td>\n",
       "      <td>NaN</td>\n",
       "      <td>NaN</td>\n",
       "      <td>NaN</td>\n",
       "      <td>NaN</td>\n",
       "      <td>NaN</td>\n",
       "      <td>NaN</td>\n",
       "    </tr>\n",
       "    <tr>\n",
       "      <th>432</th>\n",
       "      <td>4616530</td>\n",
       "      <td>0</td>\n",
       "      <td>0</td>\n",
       "      <td>0</td>\n",
       "      <td>450</td>\n",
       "      <td>2</td>\n",
       "      <td>29</td>\n",
       "      <td>SA</td>\n",
       "      <td>1601512023</td>\n",
       "      <td>NaN</td>\n",
       "      <td>NaN</td>\n",
       "      <td>NaN</td>\n",
       "      <td>NaN</td>\n",
       "      <td>NaN</td>\n",
       "      <td>NaN</td>\n",
       "      <td>NaN</td>\n",
       "      <td>NaN</td>\n",
       "      <td>NaN</td>\n",
       "    </tr>\n",
       "    <tr>\n",
       "      <th>...</th>\n",
       "      <td>...</td>\n",
       "      <td>...</td>\n",
       "      <td>...</td>\n",
       "      <td>...</td>\n",
       "      <td>...</td>\n",
       "      <td>...</td>\n",
       "      <td>...</td>\n",
       "      <td>...</td>\n",
       "      <td>...</td>\n",
       "      <td>...</td>\n",
       "      <td>...</td>\n",
       "      <td>...</td>\n",
       "      <td>...</td>\n",
       "      <td>...</td>\n",
       "      <td>...</td>\n",
       "      <td>...</td>\n",
       "      <td>...</td>\n",
       "      <td>...</td>\n",
       "    </tr>\n",
       "    <tr>\n",
       "      <th>13998609</th>\n",
       "      <td>4684428</td>\n",
       "      <td>0</td>\n",
       "      <td>0</td>\n",
       "      <td>0</td>\n",
       "      <td>448</td>\n",
       "      <td>2</td>\n",
       "      <td>0</td>\n",
       "      <td>SA</td>\n",
       "      <td>1616844927</td>\n",
       "      <td>NaN</td>\n",
       "      <td>NaN</td>\n",
       "      <td>NaN</td>\n",
       "      <td>NaN</td>\n",
       "      <td>NaN</td>\n",
       "      <td>NaN</td>\n",
       "      <td>NaN</td>\n",
       "      <td>NaN</td>\n",
       "      <td>NaN</td>\n",
       "    </tr>\n",
       "    <tr>\n",
       "      <th>13998615</th>\n",
       "      <td>4684428</td>\n",
       "      <td>0</td>\n",
       "      <td>0</td>\n",
       "      <td>0</td>\n",
       "      <td>448</td>\n",
       "      <td>2</td>\n",
       "      <td>0</td>\n",
       "      <td>SA</td>\n",
       "      <td>1616844931</td>\n",
       "      <td>NaN</td>\n",
       "      <td>NaN</td>\n",
       "      <td>NaN</td>\n",
       "      <td>NaN</td>\n",
       "      <td>NaN</td>\n",
       "      <td>NaN</td>\n",
       "      <td>NaN</td>\n",
       "      <td>NaN</td>\n",
       "      <td>NaN</td>\n",
       "    </tr>\n",
       "    <tr>\n",
       "      <th>14001634</th>\n",
       "      <td>3758204</td>\n",
       "      <td>0</td>\n",
       "      <td>0</td>\n",
       "      <td>0</td>\n",
       "      <td>452</td>\n",
       "      <td>2</td>\n",
       "      <td>93</td>\n",
       "      <td>EG</td>\n",
       "      <td>1616847094</td>\n",
       "      <td>NaN</td>\n",
       "      <td>NaN</td>\n",
       "      <td>NaN</td>\n",
       "      <td>NaN</td>\n",
       "      <td>NaN</td>\n",
       "      <td>NaN</td>\n",
       "      <td>NaN</td>\n",
       "      <td>NaN</td>\n",
       "      <td>NaN</td>\n",
       "    </tr>\n",
       "    <tr>\n",
       "      <th>14001653</th>\n",
       "      <td>3758204</td>\n",
       "      <td>0</td>\n",
       "      <td>0</td>\n",
       "      <td>0</td>\n",
       "      <td>452</td>\n",
       "      <td>2</td>\n",
       "      <td>11</td>\n",
       "      <td>EG</td>\n",
       "      <td>1616847108</td>\n",
       "      <td>NaN</td>\n",
       "      <td>NaN</td>\n",
       "      <td>NaN</td>\n",
       "      <td>NaN</td>\n",
       "      <td>NaN</td>\n",
       "      <td>NaN</td>\n",
       "      <td>NaN</td>\n",
       "      <td>NaN</td>\n",
       "      <td>NaN</td>\n",
       "    </tr>\n",
       "    <tr>\n",
       "      <th>14001654</th>\n",
       "      <td>3758204</td>\n",
       "      <td>0</td>\n",
       "      <td>0</td>\n",
       "      <td>0</td>\n",
       "      <td>452</td>\n",
       "      <td>2</td>\n",
       "      <td>0</td>\n",
       "      <td>EG</td>\n",
       "      <td>1616847110</td>\n",
       "      <td>NaN</td>\n",
       "      <td>NaN</td>\n",
       "      <td>NaN</td>\n",
       "      <td>NaN</td>\n",
       "      <td>NaN</td>\n",
       "      <td>NaN</td>\n",
       "      <td>NaN</td>\n",
       "      <td>NaN</td>\n",
       "      <td>NaN</td>\n",
       "    </tr>\n",
       "  </tbody>\n",
       "</table>\n",
       "<p>100066 rows × 18 columns</p>\n",
       "</div>"
      ],
      "text/plain": [
       "          USER_ID  KID_ID  CATEGORY_ID  SECTION_ID  ITEM_ID  USER_TYPE  \\\n",
       "418       4616530       0            0           0      450          2   \n",
       "421       4616530       0            0           0      450          2   \n",
       "423       4616530       0            0           0      450          2   \n",
       "428       4616530       0            0           0      450          2   \n",
       "432       4616530       0            0           0      450          2   \n",
       "...           ...     ...          ...         ...      ...        ...   \n",
       "13998609  4684428       0            0           0      448          2   \n",
       "13998615  4684428       0            0           0      448          2   \n",
       "14001634  3758204       0            0           0      452          2   \n",
       "14001653  3758204       0            0           0      452          2   \n",
       "14001654  3758204       0            0           0      452          2   \n",
       "\n",
       "          TIME_SPEND COUNTRY   TIMESTAMP  PRIMARY_LEARNING_OBJECTIVE_ID  \\\n",
       "418               56      SA  1601511965                            NaN   \n",
       "421               10      SA  1601511976                            NaN   \n",
       "423                2      SA  1601511979                            NaN   \n",
       "428               13      SA  1601511992                            NaN   \n",
       "432               29      SA  1601512023                            NaN   \n",
       "...              ...     ...         ...                            ...   \n",
       "13998609           0      SA  1616844927                            NaN   \n",
       "13998615           0      SA  1616844931                            NaN   \n",
       "14001634          93      EG  1616847094                            NaN   \n",
       "14001653          11      EG  1616847108                            NaN   \n",
       "14001654           0      EG  1616847110                            NaN   \n",
       "\n",
       "          CONTENT_TYPE DISPLAY_NAME  PUBLISHER_ID  PRICING_TYPE  GENRE  \\\n",
       "418                NaN          NaN           NaN           NaN    NaN   \n",
       "421                NaN          NaN           NaN           NaN    NaN   \n",
       "423                NaN          NaN           NaN           NaN    NaN   \n",
       "428                NaN          NaN           NaN           NaN    NaN   \n",
       "432                NaN          NaN           NaN           NaN    NaN   \n",
       "...                ...          ...           ...           ...    ...   \n",
       "13998609           NaN          NaN           NaN           NaN    NaN   \n",
       "13998615           NaN          NaN           NaN           NaN    NaN   \n",
       "14001634           NaN          NaN           NaN           NaN    NaN   \n",
       "14001653           NaN          NaN           NaN           NaN    NaN   \n",
       "14001654           NaN          NaN           NaN           NaN    NaN   \n",
       "\n",
       "         GAME_GENRE  NUMBER_OF_PAGES  ESTIMATED_CONTENT_DURATION  \n",
       "418             NaN              NaN                         NaN  \n",
       "421             NaN              NaN                         NaN  \n",
       "423             NaN              NaN                         NaN  \n",
       "428             NaN              NaN                         NaN  \n",
       "432             NaN              NaN                         NaN  \n",
       "...             ...              ...                         ...  \n",
       "13998609        NaN              NaN                         NaN  \n",
       "13998615        NaN              NaN                         NaN  \n",
       "14001634        NaN              NaN                         NaN  \n",
       "14001653        NaN              NaN                         NaN  \n",
       "14001654        NaN              NaN                         NaN  \n",
       "\n",
       "[100066 rows x 18 columns]"
      ]
     },
     "execution_count": 40,
     "metadata": {},
     "output_type": "execute_result"
    }
   ],
   "source": [
    "merged_df[merged_df[\"CONTENT_TYPE\"].isnull()]"
   ]
  },
  {
   "cell_type": "code",
   "execution_count": 41,
   "metadata": {},
   "outputs": [
    {
     "data": {
      "text/plain": [
       "USER_ID                                0\n",
       "KID_ID                                 0\n",
       "CATEGORY_ID                            0\n",
       "SECTION_ID                             0\n",
       "ITEM_ID                                0\n",
       "USER_TYPE                              0\n",
       "TIME_SPEND                             0\n",
       "COUNTRY                             1460\n",
       "TIMESTAMP                              0\n",
       "PRIMARY_LEARNING_OBJECTIVE_ID     100066\n",
       "CONTENT_TYPE                      100066\n",
       "DISPLAY_NAME                      100066\n",
       "PUBLISHER_ID                      100066\n",
       "PRICING_TYPE                      100066\n",
       "GENRE                             100066\n",
       "GAME_GENRE                       5925437\n",
       "NUMBER_OF_PAGES                   100066\n",
       "ESTIMATED_CONTENT_DURATION        100066\n",
       "dtype: int64"
      ]
     },
     "execution_count": 41,
     "metadata": {},
     "output_type": "execute_result"
    }
   ],
   "source": [
    "merged_df.isnull().sum()"
   ]
  },
  {
   "cell_type": "code",
   "execution_count": 42,
   "metadata": {},
   "outputs": [
    {
     "data": {
      "text/html": [
       "<div>\n",
       "<style scoped>\n",
       "    .dataframe tbody tr th:only-of-type {\n",
       "        vertical-align: middle;\n",
       "    }\n",
       "\n",
       "    .dataframe tbody tr th {\n",
       "        vertical-align: top;\n",
       "    }\n",
       "\n",
       "    .dataframe thead th {\n",
       "        text-align: right;\n",
       "    }\n",
       "</style>\n",
       "<table border=\"1\" class=\"dataframe\">\n",
       "  <thead>\n",
       "    <tr style=\"text-align: right;\">\n",
       "      <th></th>\n",
       "      <th>USER_ID</th>\n",
       "      <th>CONTENT_TYPE</th>\n",
       "    </tr>\n",
       "  </thead>\n",
       "  <tbody>\n",
       "    <tr>\n",
       "      <th>0</th>\n",
       "      <td>4870693</td>\n",
       "      <td>33.0</td>\n",
       "    </tr>\n",
       "    <tr>\n",
       "      <th>1</th>\n",
       "      <td>5226739</td>\n",
       "      <td>33.0</td>\n",
       "    </tr>\n",
       "    <tr>\n",
       "      <th>2</th>\n",
       "      <td>5153110</td>\n",
       "      <td>33.0</td>\n",
       "    </tr>\n",
       "    <tr>\n",
       "      <th>3</th>\n",
       "      <td>5153110</td>\n",
       "      <td>33.0</td>\n",
       "    </tr>\n",
       "    <tr>\n",
       "      <th>4</th>\n",
       "      <td>4548275</td>\n",
       "      <td>33.0</td>\n",
       "    </tr>\n",
       "    <tr>\n",
       "      <th>...</th>\n",
       "      <td>...</td>\n",
       "      <td>...</td>\n",
       "    </tr>\n",
       "    <tr>\n",
       "      <th>14003034</th>\n",
       "      <td>5589107</td>\n",
       "      <td>35.0</td>\n",
       "    </tr>\n",
       "    <tr>\n",
       "      <th>14003035</th>\n",
       "      <td>5608351</td>\n",
       "      <td>35.0</td>\n",
       "    </tr>\n",
       "    <tr>\n",
       "      <th>14003036</th>\n",
       "      <td>3826546</td>\n",
       "      <td>35.0</td>\n",
       "    </tr>\n",
       "    <tr>\n",
       "      <th>14003037</th>\n",
       "      <td>5608508</td>\n",
       "      <td>35.0</td>\n",
       "    </tr>\n",
       "    <tr>\n",
       "      <th>14003038</th>\n",
       "      <td>5423392</td>\n",
       "      <td>33.0</td>\n",
       "    </tr>\n",
       "  </tbody>\n",
       "</table>\n",
       "<p>14003039 rows × 2 columns</p>\n",
       "</div>"
      ],
      "text/plain": [
       "          USER_ID  CONTENT_TYPE\n",
       "0         4870693          33.0\n",
       "1         5226739          33.0\n",
       "2         5153110          33.0\n",
       "3         5153110          33.0\n",
       "4         4548275          33.0\n",
       "...           ...           ...\n",
       "14003034  5589107          35.0\n",
       "14003035  5608351          35.0\n",
       "14003036  3826546          35.0\n",
       "14003037  5608508          35.0\n",
       "14003038  5423392          33.0\n",
       "\n",
       "[14003039 rows x 2 columns]"
      ]
     },
     "execution_count": 42,
     "metadata": {},
     "output_type": "execute_result"
    }
   ],
   "source": [
    "merged_df[[\"USER_ID\",\"CONTENT_TYPE\"]]"
   ]
  },
  {
   "cell_type": "code",
   "execution_count": null,
   "metadata": {},
   "outputs": [],
   "source": []
  },
  {
   "cell_type": "code",
   "execution_count": 43,
   "metadata": {},
   "outputs": [],
   "source": [
    "ml_df = merged_df[[\"USER_TYPE\",\"CONTENT_TYPE\"]]"
   ]
  },
  {
   "cell_type": "code",
   "execution_count": 44,
   "metadata": {},
   "outputs": [],
   "source": [
    "ml_df = ml_df.fillna(0.0)"
   ]
  },
  {
   "cell_type": "code",
   "execution_count": 45,
   "metadata": {},
   "outputs": [
    {
     "name": "stdout",
     "output_type": "stream",
     "text": [
      "<class 'pandas.core.frame.DataFrame'>\n",
      "Int64Index: 14003039 entries, 0 to 14003038\n",
      "Data columns (total 2 columns):\n",
      " #   Column        Dtype  \n",
      "---  ------        -----  \n",
      " 0   USER_TYPE     int64  \n",
      " 1   CONTENT_TYPE  float64\n",
      "dtypes: float64(1), int64(1)\n",
      "memory usage: 320.5 MB\n"
     ]
    }
   ],
   "source": [
    "ml_df.info()"
   ]
  },
  {
   "cell_type": "code",
   "execution_count": 46,
   "metadata": {},
   "outputs": [
    {
     "data": {
      "text/plain": [
       "USER_TYPE       0\n",
       "CONTENT_TYPE    0\n",
       "dtype: int64"
      ]
     },
     "execution_count": 46,
     "metadata": {},
     "output_type": "execute_result"
    }
   ],
   "source": [
    "\n",
    "ml_df.isnull().sum()"
   ]
  },
  {
   "cell_type": "code",
   "execution_count": 82,
   "metadata": {},
   "outputs": [],
   "source": [
    "df_target = pca_df[\"CONTENT_TYPE\"]\n",
    "df_final = pca_df.drop(columns =['CONTENT_TYPE'])"
   ]
  },
  {
   "cell_type": "code",
   "execution_count": 83,
   "metadata": {},
   "outputs": [
    {
     "data": {
      "text/plain": [
       "(14003039,)"
      ]
     },
     "execution_count": 83,
     "metadata": {},
     "output_type": "execute_result"
    }
   ],
   "source": [
    "df_target.shape"
   ]
  },
  {
   "cell_type": "code",
   "execution_count": 84,
   "metadata": {},
   "outputs": [
    {
     "data": {
      "text/plain": [
       "(14003039, 9)"
      ]
     },
     "execution_count": 84,
     "metadata": {},
     "output_type": "execute_result"
    }
   ],
   "source": [
    "df_final.shape"
   ]
  },
  {
   "cell_type": "code",
   "execution_count": 85,
   "metadata": {},
   "outputs": [
    {
     "data": {
      "text/plain": [
       "Index(['USER_TYPE', 'TIME_SPEND', 'TIMESTAMP', 'PRIMARY_LEARNING_OBJECTIVE_ID',\n",
       "       'CONTENT_TYPE', 'PUBLISHER_ID', 'PRICING_TYPE', 'GENRE',\n",
       "       'NUMBER_OF_PAGES', 'ESTIMATED_CONTENT_DURATION'],\n",
       "      dtype='object')"
      ]
     },
     "execution_count": 85,
     "metadata": {},
     "output_type": "execute_result"
    }
   ],
   "source": [
    "pca_df.columns"
   ]
  },
  {
   "cell_type": "code",
   "execution_count": 86,
   "metadata": {},
   "outputs": [],
   "source": [
    "from sklearn.model_selection import train_test_split\n",
    "\n",
    "pca_X_train, pca_X_test, pca_y_train, pca_y_test = train_test_split(df_final, df_target, test_size = 0.2)\n"
   ]
  },
  {
   "cell_type": "code",
   "execution_count": 87,
   "metadata": {},
   "outputs": [
    {
     "data": {
      "text/plain": [
       "(11202431, 9)"
      ]
     },
     "execution_count": 87,
     "metadata": {},
     "output_type": "execute_result"
    }
   ],
   "source": [
    "pca_X_train.shape"
   ]
  },
  {
   "cell_type": "code",
   "execution_count": 88,
   "metadata": {},
   "outputs": [
    {
     "data": {
      "text/plain": [
       "(11202431,)"
      ]
     },
     "execution_count": 88,
     "metadata": {},
     "output_type": "execute_result"
    }
   ],
   "source": [
    "pca_y_train.shape"
   ]
  },
  {
   "cell_type": "code",
   "execution_count": 89,
   "metadata": {},
   "outputs": [
    {
     "data": {
      "text/plain": [
       "(2800608, 9)"
      ]
     },
     "execution_count": 89,
     "metadata": {},
     "output_type": "execute_result"
    }
   ],
   "source": [
    "pca_X_test.shape"
   ]
  },
  {
   "cell_type": "code",
   "execution_count": 90,
   "metadata": {},
   "outputs": [
    {
     "data": {
      "text/plain": [
       "(2800608,)"
      ]
     },
     "execution_count": 90,
     "metadata": {},
     "output_type": "execute_result"
    }
   ],
   "source": [
    "pca_y_test.shape"
   ]
  },
  {
   "cell_type": "code",
   "execution_count": null,
   "metadata": {},
   "outputs": [],
   "source": []
  },
  {
   "cell_type": "code",
   "execution_count": null,
   "metadata": {},
   "outputs": [],
   "source": []
  },
  {
   "cell_type": "code",
   "execution_count": 47,
   "metadata": {},
   "outputs": [],
   "source": [
    "X = ml_df[['USER_TYPE']]\n",
    "y = ml_df[['CONTENT_TYPE']]"
   ]
  },
  {
   "cell_type": "code",
   "execution_count": 48,
   "metadata": {},
   "outputs": [
    {
     "data": {
      "text/html": [
       "<div>\n",
       "<style scoped>\n",
       "    .dataframe tbody tr th:only-of-type {\n",
       "        vertical-align: middle;\n",
       "    }\n",
       "\n",
       "    .dataframe tbody tr th {\n",
       "        vertical-align: top;\n",
       "    }\n",
       "\n",
       "    .dataframe thead th {\n",
       "        text-align: right;\n",
       "    }\n",
       "</style>\n",
       "<table border=\"1\" class=\"dataframe\">\n",
       "  <thead>\n",
       "    <tr style=\"text-align: right;\">\n",
       "      <th></th>\n",
       "      <th>USER_TYPE</th>\n",
       "    </tr>\n",
       "  </thead>\n",
       "  <tbody>\n",
       "    <tr>\n",
       "      <th>0</th>\n",
       "      <td>2</td>\n",
       "    </tr>\n",
       "    <tr>\n",
       "      <th>1</th>\n",
       "      <td>1</td>\n",
       "    </tr>\n",
       "    <tr>\n",
       "      <th>2</th>\n",
       "      <td>2</td>\n",
       "    </tr>\n",
       "    <tr>\n",
       "      <th>3</th>\n",
       "      <td>2</td>\n",
       "    </tr>\n",
       "    <tr>\n",
       "      <th>4</th>\n",
       "      <td>2</td>\n",
       "    </tr>\n",
       "    <tr>\n",
       "      <th>...</th>\n",
       "      <td>...</td>\n",
       "    </tr>\n",
       "    <tr>\n",
       "      <th>14003034</th>\n",
       "      <td>1</td>\n",
       "    </tr>\n",
       "    <tr>\n",
       "      <th>14003035</th>\n",
       "      <td>2</td>\n",
       "    </tr>\n",
       "    <tr>\n",
       "      <th>14003036</th>\n",
       "      <td>2</td>\n",
       "    </tr>\n",
       "    <tr>\n",
       "      <th>14003037</th>\n",
       "      <td>2</td>\n",
       "    </tr>\n",
       "    <tr>\n",
       "      <th>14003038</th>\n",
       "      <td>2</td>\n",
       "    </tr>\n",
       "  </tbody>\n",
       "</table>\n",
       "<p>14003039 rows × 1 columns</p>\n",
       "</div>"
      ],
      "text/plain": [
       "          USER_TYPE\n",
       "0                 2\n",
       "1                 1\n",
       "2                 2\n",
       "3                 2\n",
       "4                 2\n",
       "...             ...\n",
       "14003034          1\n",
       "14003035          2\n",
       "14003036          2\n",
       "14003037          2\n",
       "14003038          2\n",
       "\n",
       "[14003039 rows x 1 columns]"
      ]
     },
     "execution_count": 48,
     "metadata": {},
     "output_type": "execute_result"
    }
   ],
   "source": [
    "X"
   ]
  },
  {
   "cell_type": "code",
   "execution_count": 49,
   "metadata": {},
   "outputs": [
    {
     "data": {
      "text/html": [
       "<div>\n",
       "<style scoped>\n",
       "    .dataframe tbody tr th:only-of-type {\n",
       "        vertical-align: middle;\n",
       "    }\n",
       "\n",
       "    .dataframe tbody tr th {\n",
       "        vertical-align: top;\n",
       "    }\n",
       "\n",
       "    .dataframe thead th {\n",
       "        text-align: right;\n",
       "    }\n",
       "</style>\n",
       "<table border=\"1\" class=\"dataframe\">\n",
       "  <thead>\n",
       "    <tr style=\"text-align: right;\">\n",
       "      <th></th>\n",
       "      <th>CONTENT_TYPE</th>\n",
       "    </tr>\n",
       "  </thead>\n",
       "  <tbody>\n",
       "    <tr>\n",
       "      <th>0</th>\n",
       "      <td>33.0</td>\n",
       "    </tr>\n",
       "    <tr>\n",
       "      <th>1</th>\n",
       "      <td>33.0</td>\n",
       "    </tr>\n",
       "    <tr>\n",
       "      <th>2</th>\n",
       "      <td>33.0</td>\n",
       "    </tr>\n",
       "    <tr>\n",
       "      <th>3</th>\n",
       "      <td>33.0</td>\n",
       "    </tr>\n",
       "    <tr>\n",
       "      <th>4</th>\n",
       "      <td>33.0</td>\n",
       "    </tr>\n",
       "    <tr>\n",
       "      <th>...</th>\n",
       "      <td>...</td>\n",
       "    </tr>\n",
       "    <tr>\n",
       "      <th>14003034</th>\n",
       "      <td>35.0</td>\n",
       "    </tr>\n",
       "    <tr>\n",
       "      <th>14003035</th>\n",
       "      <td>35.0</td>\n",
       "    </tr>\n",
       "    <tr>\n",
       "      <th>14003036</th>\n",
       "      <td>35.0</td>\n",
       "    </tr>\n",
       "    <tr>\n",
       "      <th>14003037</th>\n",
       "      <td>35.0</td>\n",
       "    </tr>\n",
       "    <tr>\n",
       "      <th>14003038</th>\n",
       "      <td>33.0</td>\n",
       "    </tr>\n",
       "  </tbody>\n",
       "</table>\n",
       "<p>14003039 rows × 1 columns</p>\n",
       "</div>"
      ],
      "text/plain": [
       "          CONTENT_TYPE\n",
       "0                 33.0\n",
       "1                 33.0\n",
       "2                 33.0\n",
       "3                 33.0\n",
       "4                 33.0\n",
       "...                ...\n",
       "14003034          35.0\n",
       "14003035          35.0\n",
       "14003036          35.0\n",
       "14003037          35.0\n",
       "14003038          33.0\n",
       "\n",
       "[14003039 rows x 1 columns]"
      ]
     },
     "execution_count": 49,
     "metadata": {},
     "output_type": "execute_result"
    }
   ],
   "source": [
    "y"
   ]
  },
  {
   "cell_type": "code",
   "execution_count": 50,
   "metadata": {},
   "outputs": [
    {
     "data": {
      "text/plain": [
       "(14003039, 1)"
      ]
     },
     "execution_count": 50,
     "metadata": {},
     "output_type": "execute_result"
    }
   ],
   "source": [
    "X.shape"
   ]
  },
  {
   "cell_type": "code",
   "execution_count": 51,
   "metadata": {},
   "outputs": [
    {
     "data": {
      "text/plain": [
       "(14003039, 1)"
      ]
     },
     "execution_count": 51,
     "metadata": {},
     "output_type": "execute_result"
    }
   ],
   "source": [
    "y.shape"
   ]
  },
  {
   "cell_type": "code",
   "execution_count": 52,
   "metadata": {},
   "outputs": [],
   "source": [
    "X = np.array(X).astype('float32')\n",
    "y = np.array(y).astype('float32')"
   ]
  },
  {
   "cell_type": "code",
   "execution_count": 53,
   "metadata": {},
   "outputs": [
    {
     "data": {
      "text/plain": [
       "array([[2.],\n",
       "       [1.],\n",
       "       [2.],\n",
       "       ...,\n",
       "       [2.],\n",
       "       [2.],\n",
       "       [2.]], dtype=float32)"
      ]
     },
     "execution_count": 53,
     "metadata": {},
     "output_type": "execute_result"
    }
   ],
   "source": [
    "X"
   ]
  },
  {
   "cell_type": "code",
   "execution_count": 54,
   "metadata": {},
   "outputs": [
    {
     "data": {
      "text/plain": [
       "array([[33.],\n",
       "       [33.],\n",
       "       [33.],\n",
       "       ...,\n",
       "       [35.],\n",
       "       [35.],\n",
       "       [33.]], dtype=float32)"
      ]
     },
     "execution_count": 54,
     "metadata": {},
     "output_type": "execute_result"
    }
   ],
   "source": [
    "y"
   ]
  },
  {
   "cell_type": "code",
   "execution_count": 57,
   "metadata": {},
   "outputs": [
    {
     "data": {
      "text/plain": [
       "LinearRegression()"
      ]
     },
     "execution_count": 57,
     "metadata": {},
     "output_type": "execute_result"
    }
   ],
   "source": [
    "from sklearn.linear_model import LinearRegression\n",
    "from sklearn.metrics import mean_squared_error, accuracy_score\n",
    "\n",
    "regresssion_model_sklearn = LinearRegression(fit_intercept = True)\n",
    "regresssion_model_sklearn.fit(X_train, y_train)"
   ]
  },
  {
   "cell_type": "code",
   "execution_count": 58,
   "metadata": {},
   "outputs": [
    {
     "data": {
      "text/plain": [
       "0.000380400452037688"
      ]
     },
     "execution_count": 58,
     "metadata": {},
     "output_type": "execute_result"
    }
   ],
   "source": [
    "regresssion_model_sklearn_accuracy = regresssion_model_sklearn.score(X_test, y_test)\n",
    "regresssion_model_sklearn_accuracy"
   ]
  },
  {
   "cell_type": "code",
   "execution_count": 59,
   "metadata": {},
   "outputs": [],
   "source": [
    "y_predict = regresssion_model_sklearn.predict(X_test)"
   ]
  },
  {
   "cell_type": "code",
   "execution_count": 60,
   "metadata": {},
   "outputs": [
    {
     "data": {
      "text/plain": [
       "array([[33.267193],\n",
       "       [33.147133],\n",
       "       [33.267193],\n",
       "       ...,\n",
       "       [33.147133],\n",
       "       [33.147133],\n",
       "       [33.147133]], dtype=float32)"
      ]
     },
     "execution_count": 60,
     "metadata": {},
     "output_type": "execute_result"
    }
   ],
   "source": [
    "y_predict"
   ]
  },
  {
   "cell_type": "code",
   "execution_count": 62,
   "metadata": {},
   "outputs": [
    {
     "data": {
      "text/plain": [
       "Text(0.5, 1.0, 'User and Content')"
      ]
     },
     "execution_count": 62,
     "metadata": {},
     "output_type": "execute_result"
    },
    {
     "data": {
      "image/png": "[encoded data removed]",
      "text/plain": [
       "<Figure size 432x288 with 1 Axes>"
      ]
     },
     "metadata": {
      "needs_background": "light"
     },
     "output_type": "display_data"
    }
   ],
   "source": [
    "plt.scatter(X_train, y_train, color = 'gray')\n",
    "plt.plot(X_train, regresssion_model_sklearn.predict(X_train), color = 'red')\n",
    "plt.ylabel('Content')\n",
    "plt.xlabel('User')\n",
    "plt.title('User and Content')"
   ]
  },
  {
   "cell_type": "code",
   "execution_count": 91,
   "metadata": {},
   "outputs": [
    {
     "name": "stdout",
     "output_type": "stream",
     "text": [
      "Requirement already satisfied: xgboost in /Users/armaan/opt/anaconda3/lib/python3.8/site-packages (1.4.2)\n",
      "Requirement already satisfied: numpy in /Users/armaan/opt/anaconda3/lib/python3.8/site-packages (from xgboost) (1.19.2)\n",
      "Requirement already satisfied: scipy in /Users/armaan/opt/anaconda3/lib/python3.8/site-packages (from xgboost) (1.5.2)\n"
     ]
    },
    {
     "name": "stderr",
     "output_type": "stream",
     "text": [
      "/Users/armaan/opt/anaconda3/lib/python3.8/site-packages/xgboost/sklearn.py:1146: UserWarning: The use of label encoder in XGBClassifier is deprecated and will be removed in a future release. To remove this warning, do the following: 1) Pass option use_label_encoder=False when constructing XGBClassifier object; and 2) Encode your labels (y) as integers starting with 0, i.e. 0, 1, 2, ..., [num_class - 1].\n",
      "  warnings.warn(label_encoder_deprecation_msg, UserWarning)\n"
     ]
    },
    {
     "name": "stdout",
     "output_type": "stream",
     "text": [
      "[02:45:18] WARNING: /Users/travis/build/dmlc/xgboost/src/learner.cc:1095: Starting in XGBoost 1.3.0, the default evaluation metric used with the objective 'multi:softprob' was changed from 'merror' to 'mlogloss'. Explicitly set eval_metric if you'd like to restore the old behavior.\n"
     ]
    },
    {
     "data": {
      "text/plain": [
       "XGBClassifier(base_score=0.5, booster='gbtree', colsample_bylevel=1,\n",
       "              colsample_bynode=1, colsample_bytree=1, gamma=0, gpu_id=-1,\n",
       "              importance_type='gain', interaction_constraints='',\n",
       "              learning_rate=0.300000012, max_delta_step=0, max_depth=6,\n",
       "              min_child_weight=1, missing=nan, monotone_constraints='()',\n",
       "              n_estimators=100, n_jobs=8, num_parallel_tree=1,\n",
       "              objective='multi:softprob', random_state=0, reg_alpha=0,\n",
       "              reg_lambda=1, scale_pos_weight=None, subsample=1,\n",
       "              tree_method='approx', validate_parameters=1, verbosity=None)"
      ]
     },
     "execution_count": 91,
     "metadata": {},
     "output_type": "execute_result"
    }
   ],
   "source": [
    "!pip install xgboost\n",
    "from xgboost import XGBClassifier\n",
    "\n",
    "# model = XGBClassifier(learning_rate=0.01, n_estimators=100, objective='binary:logistic')\n",
    "model = XGBClassifier()\n",
    "\n",
    "model.fit(pca_X_train, pca_y_train)"
   ]
  },
  {
   "cell_type": "code",
   "execution_count": 92,
   "metadata": {},
   "outputs": [],
   "source": [
    "predict = model.predict(pca_X_test)"
   ]
  },
  {
   "cell_type": "code",
   "execution_count": 93,
   "metadata": {},
   "outputs": [
    {
     "data": {
      "text/plain": [
       "array([33., 33., 33., ..., 33., 31., 35.])"
      ]
     },
     "execution_count": 93,
     "metadata": {},
     "output_type": "execute_result"
    }
   ],
   "source": [
    "predict"
   ]
  },
  {
   "cell_type": "code",
   "execution_count": 94,
   "metadata": {},
   "outputs": [
    {
     "data": {
      "text/plain": [
       "<AxesSubplot:>"
      ]
     },
     "execution_count": 94,
     "metadata": {},
     "output_type": "execute_result"
    },
    {
     "data": {
      "image/png": "[encoded data removed]",
      "text/plain": [
       "<Figure size 432x288 with 2 Axes>"
      ]
     },
     "metadata": {
      "needs_background": "light"
     },
     "output_type": "display_data"
    }
   ],
   "source": [
    "predict_train = model.predict(pca_X_train)\n",
    "from sklearn.metrics import confusion_matrix\n",
    "cm = confusion_matrix(pca_y_train, predict_train)\n",
    "plt.figure()\n",
    "sns.heatmap(cm, annot=True)"
   ]
  },
  {
   "cell_type": "code",
   "execution_count": 98,
   "metadata": {},
   "outputs": [
    {
     "name": "stdout",
     "output_type": "stream",
     "text": [
      "Precision = 1.0\n",
      "Recall = 1.0\n",
      "Accuracy = 1.0\n"
     ]
    }
   ],
   "source": [
    "\n",
    "\n",
    "from sklearn.metrics import precision_score, recall_score, accuracy_score\n",
    "\n",
    "print(\"Precision = {}\".format(precision_score(pca_y_train, predict_train, average = 'micro')))\n",
    "print(\"Recall = {}\".format(recall_score(pca_y_train, predict_train, average = 'micro')))\n",
    "print(\"Accuracy = {}\".format(accuracy_score(pca_y_train, predict_train)))"
   ]
  },
  {
   "cell_type": "code",
   "execution_count": null,
   "metadata": {},
   "outputs": [],
   "source": []
  }
 ],
 "metadata": {
  "kernelspec": {
   "display_name": "Python 3",
   "language": "python",
   "name": "python3"
  },
  "language_info": {
   "codemirror_mode": {
    "name": "ipython",
    "version": 3
   },
   "file_extension": ".py",
   "mimetype": "text/x-python",
   "name": "python",
   "nbconvert_exporter": "python",
   "pygments_lexer": "ipython3",
   "version": "3.8.5"
  }
 },
 "nbformat": 4,
 "nbformat_minor": 4
}
